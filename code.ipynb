{
 "cells": [
  {
   "cell_type": "code",
   "execution_count": 2,
   "id": "4e6a3a39",
   "metadata": {},
   "outputs": [],
   "source": [
    "import numpy as np \n",
    "import pandas as pd \n",
    "import torch\n",
    "import torch.nn as nn\n",
    "from torch.utils.data import Dataset, DataLoader\n",
    "from transformers import AutoTokenizer, AutoModel, get_linear_schedule_with_warmup\n",
    "from typing import List, Dict\n",
    "import math\n",
    "import random\n"
   ]
  },
  {
   "cell_type": "code",
   "execution_count": 3,
   "id": "72bba47f",
   "metadata": {},
   "outputs": [
    {
     "data": {
      "application/vnd.microsoft.datawrangler.viewer.v0+json": {
       "columns": [
        {
         "name": "index",
         "rawType": "int64",
         "type": "integer"
        },
        {
         "name": "row_id",
         "rawType": "int64",
         "type": "integer"
        },
        {
         "name": "body",
         "rawType": "object",
         "type": "string"
        },
        {
         "name": "rule",
         "rawType": "object",
         "type": "string"
        },
        {
         "name": "subreddit",
         "rawType": "object",
         "type": "string"
        },
        {
         "name": "positive_example_1",
         "rawType": "object",
         "type": "string"
        },
        {
         "name": "positive_example_2",
         "rawType": "object",
         "type": "string"
        },
        {
         "name": "negative_example_1",
         "rawType": "object",
         "type": "string"
        },
        {
         "name": "negative_example_2",
         "rawType": "object",
         "type": "string"
        },
        {
         "name": "rule_violation",
         "rawType": "int64",
         "type": "integer"
        }
       ],
       "ref": "3f72d686-eddf-4f83-b15a-ce365ce6fb2d",
       "rows": [
        [
         "0",
         "0",
         "Banks don't want you to know this! Click here to know more!",
         "No Advertising: Spam, referral links, unsolicited advertising, and promotional content are not allowed.",
         "Futurology",
         "If you could tell your younger self something different about sex, what would that be?\n\ni AM IN A CONTEST TO WIN FUNDING FOR MY SEX POSITIVE FILM: VOTE HERE:\n\nhttp://sheknows.offerpop.com/campaign/813112/entry/v144417",
         "hunt for lady for jack off in neighbourhood http://url.inmusi.com/gakq",
         "Watch Golden Globe Awards 2017 Live Online in HD Coverage without ADS (VIP STREAMS)\n=\n\nHD STREAM QUALITY >>> [WATCH LINK1](http://forum.submitexpress.com/viewtopic.php?f=9&t=215858)\n=\n\nHD BROADCASTING QUALITY >>> [WATCH LINK1](http://forum.submitexpress.com/viewtopic.php?f=9&t=215858)\n=\n\nMobile Compatibility: YES\n=\n\nNO ADS | NO ADS | ADS\n=\n",
         "DOUBLE CEE x BANDS EPPS - \"BIRDS\"\n\nDOWNLOAD/STREAM:\n\nhttp://music.theblacksmithed.com/download/birds/",
         "0"
        ],
        [
         "1",
         "1",
         "SD Stream [ ENG Link 1] (http://www.sportsstreams247.com/astra-giurgiu-vs-fc-austria-wien/)",
         "No Advertising: Spam, referral links, unsolicited advertising, and promotional content are not allowed.",
         "soccerstreams",
         "[I wanna kiss you all over! Stunning!](http://www.oilflush.life/2017/01/26/6/)",
         "LOLGA.COM is One of the First Professional Online Gold sites. By Now, As A Game Gold Seller, we've over more than 5 yrs Of Experience And Can Pass That On To Our Customers.",
         "#Rapper \n🚨Straight Outta Cross Keys SC 🚨YouTube Search Beanie 864 Click Link BELOW To Hear Hit Single\n  \"Ah Man\" \n Beanie 864 FEAT King Kota \n (King Kota Is Only 15!) Lit 🌡🔥👍💵💯Fr Fr \nhttps://youtu.be/tLqbV1Jmt5Y",
         "[15 Amazing Hidden Features Of Google Search You Probably Don’t Know](http://www.madpeoples.com/2017/01/02  No one would argue the fact that Google is one of the most useful sihttp://www.madpeoples.com/2016/12/31/15-amazing-hidden-features-of-google-search-you-probably-dont-know/tes on the Internet. Unfortunately, most people only use about...?utm_source=reddit&utm_campaign=samreen&utm_medium=cpc)",
         "0"
        ],
        [
         "2",
         "2",
         "Lol. Try appealing the ban and say you won't do it again.",
         "No legal advice: Do not offer or request legal advice.",
         "pcmasterrace",
         "Don't break up with him or call the cops.  If you are willing to get beat up by him to stay with him, he is obviously a real winner and you know it, so you shouldn't leave him.",
         "It'll be dismissed: https://en.wikipedia.org/wiki/New_York_Times_Co._v._Sullivan\n\nThe first amendment law here is SUPER settled.",
         "Where is there a site that still works where you can jump the GPS. Is there a FAQ to do this with iPhone or Mac?",
         "Because this statement of his is true. It isn't freedom of the press, it's libel. And because of this, your post serves as a promotion for Trump. Reported.",
         "1"
        ],
        [
         "3",
         "3",
         "she will come your home open her legs with  and  you http://sh.ors.it/PALI2",
         "No Advertising: Spam, referral links, unsolicited advertising, and promotional content are not allowed.",
         "sex",
         "Selling Tyrande codes for 3€ to paypal. PM. \nhttp://imgur.com/a/IMARW",
         "tight pussy watch for your cock get her at this point http://macanasmagazine.com/yourls/hnof",
         "NSFW(obviously) http://spankbang.com/iy3u/video/marica+hase+mirrors+edge",
         "Good News ::Download WhatsApp 2.16.230 APK for Android – Latest Version",
         "1"
        ],
        [
         "4",
         "4",
         "code free tyrande --->>> [Imgur](http://i.imgur.com/KlvssCl.png)\n\nfor you and your friend 2 codes for 4 dollars https://www.paypal.com/cgi-bin/webscr?cmd=_s-xclick&hosted_button_id=UN4E27AG7BWKS\n\n2$... buy one directly from here: https://www.paypal.com/cgi-bin/webscr?cmd=_s-xclick&hosted_button_id=VP3S5HQRE7T7E\n",
         "No Advertising: Spam, referral links, unsolicited advertising, and promotional content are not allowed.",
         "hearthstone",
         " wow!! amazing reminds me of the old days.Well Do you desire a great spell caster and a herbal doctor to help you solve any problem you are going through? i am a proud testimony of what king favour solution temple has offered me. Contact him now at kingfavoursolutiontemple@yahoo.com You will be the next to testify.bye everyone",
         "seek for lady for sex in around http://p77.pl/12yb9",
         "must be watch movie https://sites.google.com/site/greatescape1963xx/-jagten-2012-full-movie",
         "We're streaming Pokemon Veitnamese Crystal RIGHT NOW, come watch https://www.twitch.tv/adandyguyinspace55.",
         "1"
        ],
        [
         "5",
         "5",
         "I live in the US it's it possible to get in trouble for watching illegal streams?",
         "No legal advice: Do not offer or request legal advice.",
         "soccerstreams",
         "Public School? You are under no legal obligation to pay anything.",
         "OP, you need to get the fuck away from your boyfriend and his friend. This was RAPE. You said stop, your scumbag boyfriend told his friend not to, what the fuck is wrong with them? And If he thinks having a threesome is SO degrading, why did he agree to do it in the first place? And HE was the one who arranged the whole thing. I don't know the laws in your country but releasing your intimate photos to internet without your permission is a felony, you should immediately contact the police! ",
         "It looks like it could be a sterile cotton swab. Your child may be in deeper than you think - I know a lot of drug pushers that keep these for their customers. Does your child's friends ever call him \"doctor\" or \"John Doe MD\"?",
         "That is called battery.  Two wrongs don't make a right.",
         "0"
        ],
        [
         "6",
         "6",
         "young kitty watching for your buddy get her herein http://p77.pl/12um9",
         "No Advertising: Spam, referral links, unsolicited advertising, and promotional content are not allowed.",
         "sex",
         "Save on Medicine!!  Save over $700 a month on Abilify\n NO membership required.  I am not affiliated with this website I just wasted nearly $200 this month on medicine and wanted to share! https://www.generosity.com/medical-fundraising/social-experiment-cheaper-meds-for-everyone/x/12935804  please share on facebook and twitter thanks!﻿",
         "Make your life comfortable. Get up to 15% Discount. Pain killers Like Roxycodone, Hydrocodone, Codeine, Percocet, Hydrocodone, Oxycodone and Lortab. Also get full treatment of Depression, Insomnia and other such problems with Adderall, Ativan, **[Xanax](http://onestoppharma.org)**, Mogadon, Modafinil and Many Others Treatments Online **Without Prescription at [onestoppharma.org](http://onestoppharma.org)**",
         "They have nothing on the platypus though goo.gl/g4cUqI",
         "Try and see if someone at www.siddhantayoga.com can help you ...",
         "0"
        ],
        [
         "7",
         "7",
         "[liệt dương](http://namkhoathientam.com/nguyen-nhan-benh-liet-duong-o-nam-gioi-la-gi-12WEF9FF.html)",
         "No Advertising: Spam, referral links, unsolicited advertising, and promotional content are not allowed.",
         "gifs",
         "EARN MONEY in online . Just Sign up and View few second Ads . 1000% Trustes Website . cLick here \nhttps://www.paidverts.com/ref/Nisar002",
         "You can use www.easy-lol.com/probuilds/\n\nIt is a rather new site what I have programmed in my freetime. You can search for champion builds and in addition see cs score of the pro players and a heatmap where they positioned themself or where they have ganked as a jungler.",
         "HD | [English Stream](http://www.ufc187livestreamonline.com/) - Bayern München vs RB Leipzig",
         "* **SD - http://livestreamnba.ru/2016/12/19/premier-league-everton-vs-liverpool-preview-prediction-live-stream/ Share**\n* Watch and enjoy\n* Watch HD live stream in good quality",
         "0"
        ],
        [
         "8",
         "8",
         "Maybe true, but that's very short-sighted. The lawsuits are already in the hundreds though on this. He's going to be getting sued six ways to sunset for his entire term. The Constitution offers very broad protection and it extends very far. Trump has no concept of what is involved.\n\nHe needs a judge that is a flexible Constitutionalist, not a literal one, because he's definitely going to bending the Constitution around in the next 4 years. He's already started. \n",
         "No legal advice: Do not offer or request legal advice.",
         "The_Donald",
         "OP, you need to get the fuck away from your boyfriend and his friend. This was RAPE. You said stop, your scumbag boyfriend told his friend not to, what the fuck is wrong with them? And If he thinks having a threesome is SO degrading, why did he agree to do it in the first place? And HE was the one who arranged the whole thing. I don't know the laws in your country but releasing your intimate photos to internet without your permission is a felony, you should immediately contact the police! ",
         "Steal the dogs back and put a lean on all her property. (Youll get some of it back eventualy) Then move and move on. ",
         "Is this 100% legal tho? Are their any copyright laws againt pirating board games lol",
         "If you masturbate before the age of 18, you're statutory raping yourself.",
         "1"
        ],
        [
         "9",
         "9",
         "you can sue them for negligence and try and recover the fees paid and any emotional distress",
         "No legal advice: Do not offer or request legal advice.",
         "legaladvice",
         "IIRC the laws require photo id, and social security card and birth certificates do not have photos on them.",
         "Tell them you want to take possession of the actual appendix. I'm sure in China there are some mystical powers that you can profit from, either whole or as a powder. If they say they disposed of it, threaten to sue, or forgive their mistake if they cancel the invoice. ",
         "That is called battery.  Two wrongs don't make a right.",
         "Heard you might have their address, it could be time for a friendly chat about business ethics.",
         "1"
        ],
        [
         "10",
         "10",
         "They don't want you taking Jimmy Jonathan's top secret family recipe to Subway, because the secret is that the Mayo they use is sperm, and they know Jared will use it to knock up little girls. Since it's Jimmy Jonathan's \"family\" recipe, he'll be on the hook for child support, and he might also be considered an accessory to statutory rape.\n",
         "No legal advice: Do not offer or request legal advice.",
         "politics",
         "Get a Glock 19 handgun.  Learn how to use it at a self defense class.  \n\nTell her ex to fuck off.  Allow your gf to notice that you now carry a gun concealed, this info will leak to her ex.  \n\nIf ex shows up to attack you shoot him in the face.  5 times.",
         "Maybe, but it still is illegal for collections agencies to harass you in that manner.\n\nThe second they start cursing at you, you have a case against them.",
         "Oh, you can buy the abortion pill online for much less than $520. http://www.realhealthshop.com/ru486-abortionkit.html\n",
         "> how do you retaliate against them?\n\nYou kick them in the nuts.",
         "1"
        ],
        [
         "11",
         "11",
         "She does not get old at all. \nhttp://tibba.net/post/milla-jovovich-photos-evolution",
         "No Advertising: Spam, referral links, unsolicited advertising, and promotional content are not allowed.",
         "pics",
         "Hi, in case you are looking for cutting edge hacking solutions with the most effective results, I suggest you hire a hacker, i saw his info on a friend's post \ncontact cyberking22@hackermail.com  he can help you  Spy On Your Partner To Test Their Sincerity, hack into any social network, devices, also he can help you track any device as he helped me.",
         "best site for dating free sex sign in =** http://hookup12.com/ngosxrmfb",
         "must be watch movie https://sites.google.com/site/georgiegirlhdfullmovie/-the-franchise-a-season-with-the-san-francisco-giants-free-full-streaming",
         "SD Stream Ned - [Fox Sports 3 Eredivisie](http://soccerstreamsarena.com/nac-vs-psv-youth-live-dutch-jupiler-league-09-sep-2016/) \n\nMobile : Compatible With Android Puffin Browser",
         "0"
        ],
        [
         "12",
         "12",
         " can do she  marvelous stuff  hole  with her  http://link.etherjammer.com/4kohe",
         "No Advertising: Spam, referral links, unsolicited advertising, and promotional content are not allowed.",
         "AskReddit",
         "If anybody wants free case to open. Here is promo link =)\n\nhttp://hellcase.com/f405290\nPromo Code: 405290\n\nAnd YES you can withdraw your item right away!",
         "Search up any online parts stores in your country, see if they got the 'V8 Accessories kit'\n\nhttp://www.cmstore-usa.com/v8-accessories-kit/",
         "[WEB ONLY] [AdBlock OK] SD - ENGLISH [Stream #1](http://www.goindexsport.com/Henan-Jianye---Shanghai-Shenhua.html) ",
         "#HD TV Link\n\n>>> http://cfbgamesfree.blogspot.com/2016/10/chargers-vs-falcons-live-stream-free.html",
         "1"
        ],
        [
         "13",
         "13",
         "Background checks are not always required. There are 33 states that allow people to buy from individuals without a check. \n\nThere is also no restrictions (that I know of) because of mental health. I could be wrong about that. ",
         "No legal advice: Do not offer or request legal advice.",
         "The_Donald",
         "This isn't illegal, unless they're directly contacting the person in question. Deplorable but legal.",
         "They don't in the US. It is illegal for any building to use untreated water in such a manner in the US. It sounds like regulations are more lax in Australia. ",
         "Depends on the severity and rate of your MS but in some cases yes. My aunt has MS that has been really well controlled with medicine and I would not suggest a SCT to her based on my perception of her life now and the risks I've seen with a transplant. For other people it would be totally worth it I'm sure ",
         "Is it hate speech to state that Islam and Muhammad can go to fucking hell and suck duck?",
         "0"
        ],
        [
         "14",
         "14",
         "Heres a free good quality stream http://www.sportsnow.cf/2016/08/ufc-202-diaz-vs-mcgregor.html?m=1",
         "No Advertising: Spam, referral links, unsolicited advertising, and promotional content are not allowed.",
         "MMA",
         "IM not a spam account.  I promise. I just post this like in comment threads every once in a while. Easiest $315 EVER. CLICK IT,  that's all it takes. http://CashForInvite.com/?ref=92781",
         "www.freekarma.com\n\nFree reddit karma with this GLITCH!\nFast before its patched!\n",
         "[For anyone that wants to watch the Iron Giant right now](http://www.promptfile.com/l/A686286241-2AD995909D)",
         "download pokemon go now \n\nhttp://alarabenet.com/pokemon-go/",
         "0"
        ],
        [
         "15",
         "15",
         "Chicago-based Arrowsmith Shoes is the global leader in the niche of pure leather shoes for men. Explore a wide range of handcrafted loafers men’s shoes made from genuine skins like Caiman and Teju Lizard. You get unbeatable quality at industry-best prices.\n",
         "No Advertising: Spam, referral links, unsolicited advertising, and promotional content are not allowed.",
         "news",
         "www.freekarma.com\n\nFree reddit karma with this GLITCH!\nFast before its patched!\n",
         "Amazon has a good price on Mydol, in case you were wondering: http://amzn.com/B000052WOZ",
         "**HD** Stream [ Preston North End vs Arsenal English Stream](http://www.kajoosports.ml\n/p/jwplayer_7.html)      \n\nAd Overlays:0\n\nMobile : Compatible   \n",
         "Use this method https://www.youtube.com/watch?v=-dd_I7w5Qnw",
         "1"
        ],
        [
         "16",
         "16",
         "- Find loose change around the house. I've actually found hundreds of dollars just from doing that and getting them exchanged for bills!\n- Sell your unwanted clothes on sites like Vinted, Mercari, Poshmark, etc.\n- Prostitution.",
         "No legal advice: Do not offer or request legal advice.",
         "personalfinance",
         "you cant fix her body/brain. i would see how srs this suicidal thing is. Tell her u can help her end herself. Go to a tree prepare rope for her and let her go through with it, if she goes save her+you have extra legit proof, if not shes just using you(by that i dont mean she isnt thinking about it, but theres huge gap between thinking, attempting, and pulling it of successfully)",
         "Steal the dogs back and put a lean on all her property. (Youll get some of it back eventualy) Then move and move on. ",
         "> Unfortunately it is in our society...\n\nNo it's not.  Not even close.  Why would you even say that?  The only way it would be rape is if her friend was so drunk she was incapacitated.  And it doesn't sound like she was.",
         "No, you don't have to own it. You can download a standalone version that is still based off of BF2 online since a year at least. Received quite a lot of attention as well. \n\nYou don't need to really own BF2 anyway to play it since the version used after EA shut the servers down (thanks to the Gamespy debacle) is basically cracked and available on none warez BF2 fan community websites.",
         "0"
        ],
        [
         "17",
         "17",
         "It had already come out that she hadn't said no. In the jurisdiction you need either a \"no\" or force to be used for it to be rape. He was leading her to admit that force was used so he could charge the guy.",
         "No legal advice: Do not offer or request legal advice.",
         "news",
         "No. It is not extortion if you say *pay me what you owe me or I will sue you.* That is the purposes of lawsuits. The \"threat\" is perfectly legal.\n\nIf she had said *pay me what you owe me or I will call the police.* that would be extortion.",
         "If they do it, its a war crime.\nIf we do it, its not.\n\n&nbsp;\n\nJust consider all the Japanese we executed because they waterboarded US soldiers. Now we just call it enhanced interrogation and its no longer a crime! The magic of legal wordplay!",
         "Depends how much you want to keep your liquor license.  ",
         "When I killed my neighbors cat in purpose and then hanged him by then neck in his [porch.](http://i.imgur.com/EoaU22S.jpg)",
         "0"
        ],
        [
         "18",
         "18",
         "Highlights and Interviews: http://swish.io/game/nba/nba-lakers-raptors-20161202\n\nHi Reddit Community! We're a sports consumption startup, and we'll be posting highlights from all NBA games within 24 hours of their conclusion. You can go to our website swish.io or download our app to get real time highlights for your favorite games. If you like anything we're doing or have a suggestion or concern, PLEASE message us! We love hearing from our users :)",
         "No Advertising: Spam, referral links, unsolicited advertising, and promotional content are not allowed.",
         "nba",
         "nice vagina waiting for your pecker find her therein http://urlku.info/3wukd",
         " can do she  marvelous stuff  hole  with her  http://link.etherjammer.com/4kohe",
         "[ساخت وبلاگ](http://parsablog.com)\n\nhttp://parsablog.com\n",
         "[WTS] keys Windows 7/8/8.1/10 | Windows Server | Office | Visio | Project\n\nhttps://redd.it/4wdv5b",
         "1"
        ],
        [
         "19",
         "19",
         "[portugal] 500 kbps: Sport Tv 1: http://sadquotess.com/reddit/ch13reddit.php",
         "No Advertising: Spam, referral links, unsolicited advertising, and promotional content are not allowed.",
         "soccerstreams",
         "Get a Discover it card and both of us get $100 ($50 that is doubled) after the first year!\nAll of your purchases get double cashback for the first year\nNo annual fee 5% rotating categories\n\nhttp://refer.discover.com/s/cmxy5?share_id=6313851759493500762",
         "  (US only)  Save on 20% on high capacity 20000mAh Power Bank. Perfect for Pokemon Go game  Code: 8PXQ6FRN      https://www.amazon.com/dp/B01KH3YXUM",
         "**HD** l [Beinsport 2 HD] (http://www.antenasport.eu/bein2.html) l Arabic,\n\nSD l [Beinsport USA ] (http://www.antenasport.eu/antenalive.html) l English,\n\nSD l [Sky Sports 1 UK ] (http://www.antenasport.eu/antenalive8.html) l English,\n\n**HD** l [Setanta Sport Plus ] (http://www.antenasport.eu/mobiletv2.html) l Russian,\n\n\nMobile : Compatible With Android Puffin Browser",
         "I'm glad you've bought into the hype.\n\nCan I interest you in a time share?  They're a great investment!  I can also sell you a bridge!",
         "0"
        ],
        [
         "20",
         "20",
         "Shut In full movie torrent download\nhttp://open-downloads.com/download/shut_in_torrent",
         "No Advertising: Spam, referral links, unsolicited advertising, and promotional content are not allowed.",
         "movies",
         "Caught all the pokemons, selling the account: http://www.ebay.com/itm/-/152178034000?﻿",
         " girls  show tits  for free  now  http://catb.in/nYsu",
         "Shut In full movie torrent download\nhttp://open-downloads.com/download/shut_in_torrent",
         "FULL VIDEO: https://www.youtube.com/watch?v=0oURtSfnrgs",
         "0"
        ],
        [
         "21",
         "21",
         "Yeah he can't use any donations after the filing but anything before he can use to pay back which means he already made his 100m back",
         "No legal advice: Do not offer or request legal advice.",
         "The_Donald",
         "You can't denied a benefit you were previously granted without a hearing either. That's a taking by the government. Here, there's a bit of a question of whether they had a benefit revoked or whether they had a permission that was revoked. That's pretty much what the lawsuit is gonna determine, but we will only know the answer to that if we have a lawsuit over it. ",
         "Jesus Christ, you can't even say the phrase Indian giver anymore...\n\nNo legal ramifications so long as you have anything in writing (i.e. email, card, etc.).",
         "Calm down mate this is not Hollywood. It's far easier to just kill him in the real world.",
         "This makes the thread gold.  10/10.  \n\n\"So my brother is throwing a party with a lot of under aged people and drugs/alcohol.  Unrelated: can I have sex with a drunk 17 year old?\"",
         "0"
        ],
        [
         "22",
         "22",
         "Guys, my wife's boyfriend told me that the recount effort (which we donated to) has pretty much fallen through. Is there any way Jill can bring this up to the supreme court while it's still majority democrat? ",
         "No legal advice: Do not offer or request legal advice.",
         "hillaryclinton",
         "All documents like that have to be served by Certified mail, or else it will not be considered a valid delivery attempt. Otherwise, anyone can say anything and have it be a valid notification. Certified mail is trackable and can be held up in court. A mail slot delivery, by the landlord himself, will not. At all.\n\nThe landlord is a fucking idiot ",
         "The Saudi donation was a charitable one so it was legal.  This one will put tRump in prison.  tRump in prison.",
         "Depends on the severity and rate of your MS but in some cases yes. My aunt has MS that has been really well controlled with medicine and I would not suggest a SCT to her based on my perception of her life now and the risks I've seen with a transplant. For other people it would be totally worth it I'm sure ",
         "In Germany:  If a picture shows a person, or persons, you must _not publish_ those pictures without that person's or persons', agreement. But you can take the picture.",
         "1"
        ],
        [
         "23",
         "23",
         "Killing poachers all the way up the line might help.",
         "No legal advice: Do not offer or request legal advice.",
         "science",
         "Attention: If you or a loved one has been diagnosed with Mesothelioma you may to be entitled to financial compensation. Mesothelioma is a rare cancer linked to asbestos exposure. Exposure to asbestos in they Navy, shipyards, mills, heating, construction or the automotive industries may put you at risk. Please don't wait, call 1-800-99 LAW USA today for a free legal consultation and financial information packet. Mesothelioma patients call now! 1-800-99 LAW USA",
         "If the people giving the money are not foreign nationals, it's legal apparently. Citizens working for foreign outfits can give money. I think we're talking political blowback, not legal blowback here.",
         "Violence. You should've stabbed them in the eyes with your keys.",
         "Kill the retard. No one hurts my dog. Although, I'm sure why I can't just push the retard to the ground and then take my dog and leave. ",
         "0"
        ],
        [
         "24",
         "24",
         "NO ADS | NO ADS | NO ADS\n\nWe show all SOCCER Games Live Streams\n\n<<< http://www.soccerlivestream.gq >>>\n\nHD Quality Streams\n\n<<< http://www.soccerlivestream.gq >>>\n\nHD SOUND Quality\n\n<<< http://www.soccerlivestream.gq >>>\n\nNO ADS | NO ADS | NO ADS",
         "No Advertising: Spam, referral links, unsolicited advertising, and promotional content are not allowed.",
         "soccerstreams",
         "find sluts for laying on in around http://qgo.be/m6DSb",
         "I just found that you can get 100 000 Pokemon GO coins completely for free! Grab it now! http://pokegobonus.com/",
         "[Full HD Movie Online Free](http://www.flickmaza.com/)",
         "must be watch movie https://sites.google.com/site/georgiegirlhdfullmovie/-the-franchise-a-season-with-the-san-francisco-giants-free-full-streaming",
         "0"
        ],
        [
         "25",
         "25",
         "NO ADS | NO ADS | NO ADS\n\nWe show all SOCCER Games Live Streams\n\n<<< http://www.soccerlivestream.gq >>>\n\nHD Quality Streams\n\n<<< http://www.soccerlivestream.gq >>>\n\nHD SOUND Quality\n\n<<< http://www.soccerlivestream.gq >>>\n\nNO ADS | NO ADS | NO ADS",
         "No Advertising: Spam, referral links, unsolicited advertising, and promotional content are not allowed.",
         "soccerstreams",
         "Porn Video njoy :) http://a.b/,,,,http://fave.co/2cGw0UW *remove a.b*",
         "My pecker tried best holes at this point now you win this prize http://hothor.se/1xqhk",
         "Solutions for Any How to Questions\nwww.wikihowtopedia.com",
         "SD/HD/Mobile GG.GG/42toi\n\n\nGG.GG/42toi\n\n\nLegit and working link>>>> GG.GG/42toi\n\n\nSD/HD/Mobile GG.GG/42toi\n\n\nGG.GG/42toi\n\n\nLegit and working link>>>> GG.GG/42toi",
         "0"
        ],
        [
         "26",
         "26",
         "NO ADS | NO ADS | NO ADS\n\nWe show all SOCCER Games Live Streams\n\n<<< http://www.soccerlivestream.gq >>>\n\nHD Quality Streams\n\n<<< http://www.soccerlivestream.gq >>>\n\nHD SOUND Quality\n\n<<< http://www.soccerlivestream.gq >>>\n\nNO ADS | NO ADS | NO ADS",
         "No Advertising: Spam, referral links, unsolicited advertising, and promotional content are not allowed.",
         "soccerstreams",
         "49 http://MySexFind.com - find girl for sex now 49!",
         "#[Get $2 off your Moscow Mule @ AMAZON w/ coupon code: 1COPPER2](http://www.amazon.com/gp/product/B00YM443DK \"Approved by Reddit\")",
         "**HD** Stream [English 1](http://www.zifootball.us/p/channel1.html) | [English 2](http://www.zifootball.us/p/channel2.html) | Ad Overlays: 4  | Mobile : Yes\n\nUpvote if you like the streams",
         "Hidden Figures Movie Available in hd Quality Stream Now\nhttp://fim-meo.ml/now.php?movie=tt4846340",
         "0"
        ],
        [
         "27",
         "27",
         "I do!\nhttps://www.etsy.com/shop/FleeceFriendship?ref=hdr_shop_menu\nI mostly have ponies in my shop, but I'm branching out into Pokemon! So if you have someone in mind that you want but don't see, feel free to send me a message :)",
         "No Advertising: Spam, referral links, unsolicited advertising, and promotional content are not allowed.",
         "pokemon",
         "‪Check out XboxCUBE for a free 3 Month Xbox Live code! http://xboxCUBE.com/?ref=UZUBp5h8‬",
         "shaved pussy watching for your buddy check it out now http://url.inmusi.com/gakq",
         "HD STREAM : | [beIN Sports USA English](http://www.cstream365.com/2hd.php)  | [ CNCB English](http://www.cstream365.com/5hd.php) \n\n\n\nAcestream HD\n\n     Sky Sports 1 HD English acestream://33921ea4cfe42f8addcb435d26aada14abc98661\n     beIN Sports USA English acestream://cd5ba0a29be9153772b9d946ce25564d59d6e476\n     beIN Sports USA English acestream://74acfd9687fa9b5258b2e6c9bce792cee87d3c71",
         "SD Stream [English Stream](http://www.mntvlive.com/premier-sports-live-stream/)",
         "1"
        ],
        [
         "28",
         "28",
         "My dad was in a similar situation a few years ago. He used this [site!](http://www.hurt-at-work-nyc.com/) to find a WC lawyer. He didn't have to pay the WC attorney until he won his case. I'd try that and see if someone from NJ can help you out. ",
         "No legal advice: Do not offer or request legal advice.",
         "legaladvice",
         "Find out if their accountant is a CPA. If he is, you may be able to go after his license. Don't give them any warning about this, if you decide to do it, open an ethics complaint with the state board of accounting. This might further open the possibility of suing these people personally even if they try to hide behind the business as cover.",
         "Don't worry guys, the study wasn't done in the US so as far as the DEA is concerned it doesn't count. Hell, it doesn't exist. ",
         "Depends on the severity and rate of your MS but in some cases yes. My aunt has MS that has been really well controlled with medicine and I would not suggest a SCT to her based on my perception of her life now and the risks I've seen with a transplant. For other people it would be totally worth it I'm sure ",
         "pray to allah then blow up a building... decreases ping, works everytime",
         "1"
        ],
        [
         "29",
         "29",
         "This same measure failed last year with a vote of 45-55. I wouldn't say both parties support it. I am, however, more interested in your view on this issue. Your previous comments indicate you are in favor of denying citizens the right to purchase a firearm if they are on a terror list or no-fly list. Is this accurate? If so, please give me your best argument about how such a rule isn't a violation of the 5th amendment.",
         "No legal advice: Do not offer or request legal advice.",
         "politics",
         "If it has her listed as the benificiary, she has 100% rights to the life insurance. You are 100%out of luck.\n\nOn the other assets, home etc, it depends upon assets titling, and state laws.\n\nSeriously, your best play is to kiss her ass 100% and convince her that your dad wanted to be put in a trust for his minor children. You are left with an emotional lay at this point. That is it.",
         "Find a lawyer and have your it expunged from your record already.",
         "Killing poachers all the way up the line might help.",
         "That's when you punch them repeatedly until they stop talking.",
         "1"
        ],
        [
         "30",
         "30",
         "Get beside him, taze him, and take his gun away.  When he regains consciousness, tell him his gun is in a nearby lake.",
         "No legal advice: Do not offer or request legal advice.",
         "hillaryclinton",
         "Dude, chill out. He's had this for 50 years and it hasn't broke. So what if it has hydrogen cyanide in it. Its no doubt chemically degraded to shit. You're telling OP to call the damn bomb squad and have them take away his uncle's antique. He'll have to answer all kinds of questions from law enforcement, probably be put on watch lists. That's so much more trouble than its worth over a little antique gas grenade uncle found exploring caves and kept as a souvenir for 50 years.",
         "Arbitration can cover more than just PR, nimrod. It is specifically used to undermine your ability to take a company to court. Sexually harassed at work? Arbitration. Wage dispute? Arbitration.\n\nAnd, by the way, employers don't GIVE you anything, its a return on the work you provide for them.  (Which will consist of most the hours of your working life.) \n\nHave you ever worked a job in your life? Or even signed an arbitration agreement? They are used against consumers as well.",
         "I actually seriously mutilated someones nipples (really). It was caught on video [here](https://www.youtube.com/watch?v=Va1_ktG5ouU)",
         "Help me out with the details and I'll place an order. I want salt that won't melt with water but will rust the fuck out of their cars. PM pls",
         "0"
        ],
        [
         "31",
         "31",
         "> so you would have to give truthful testimony\n\nThis is where the phrase \"I do not recall\" comes in handy.\n\nThey can't force you to remember things, and they can't prove that you remember. Just claim that you forgot.",
         "No legal advice: Do not offer or request legal advice.",
         "legaladvice",
         "15 is legal in France: why would i be on a list? My ex-grilfriend was 16 (i'm 33) fuck everyone that that bothers. Perfectly legal, grat relationship, best body and best sex i ever had.",
         "He signed NDAA. Treason. Any jury of people aware of constitutional law would convict him.",
         "There's similar themes and there's plagiarism. There is an entire paragraph that's almost for word. Or are you going to live in denial, she lied about penning it herself AND anyone with any brain or spent time at Uni would laugh at how little they changed. Do you need help w a source?",
         "Is this 100% legal tho? Are their any copyright laws againt pirating board games lol",
         "1"
        ],
        [
         "32",
         "32",
         "In Ontario, impaired is a criminal code violation, only requiring care and control of a vehicle, while being intoxicated. You can be charged without even having keys in the ignition.",
         "No legal advice: Do not offer or request legal advice.",
         "canada",
         "You should also understand that *consensual adult* incest is both legal and harmless; see http://marriage-equality.blogspot.com",
         "Posession, in the case of a dog, is 9/10 of the law. \n\nSteal it back if possible.",
         "Why should I care about all the bicyclists I intentionally run off the road every year?",
         "> I never theeatened to rape anyones daughters\n\ni described to /u/cojoco what it would feel like to anally rape his daughter. **if drape was involved i'd remember!** ...i don't share well...",
         "1"
        ],
        [
         "33",
         "33",
         "Amanda Bynes naked!!! If you create a free account you can see her amut for free. Http://www.mygirlfund.com/amandabynes",
         "No Advertising: Spam, referral links, unsolicited advertising, and promotional content are not allowed.",
         "videos",
         "this girl gonna be in ur house and lay on you http://url.inmusi.com/ge2d",
         " for free  sluts  show ass  here  http://gnap.es/6t5bp",
         "HD Stream: [English stream](http://www.uclstreaming.ml) Mobile: yes",
         "For everyone who didn't see\n\nhttps://eroshare.com/ec93bpos",
         "1"
        ],
        [
         "34",
         "34",
         "Stream SD No Mobile Supported [Channel 4 EN](http://sports4u.pw/schedule/manchester-city-vs-swansea-city-fc-live-streaming-11/)",
         "No Advertising: Spam, referral links, unsolicited advertising, and promotional content are not allowed.",
         "soccerstreams",
         "Free 5$ For Everyone! Go Website  drakelounge And Use Code NICKBUNYUN",
         "We are a family company that has been providing quality carpet cleaning services for more than twenty years. We utilize only the highest quality equipment and cleaning products. Our technicians are IICRC certified and fully insured. \n\nhttp://www.professional-carpet.com/",
         "Use this method https://www.youtube.com/watch?v=-dd_I7w5Qnw",
         "hey guys i have just created a pokemon youtube channel! Im hoping you guys can checkout me out and subscribe!\nHeres the link!https://www.youtube.com/channel/UCo3sDANd_QZwSOOEm0AJjrg",
         "0"
        ],
        [
         "35",
         "35",
         "this is how to fix this if it helps pass it along :) https://youtu.be/sXkcOtRsF3M",
         "No Advertising: Spam, referral links, unsolicited advertising, and promotional content are not allowed.",
         "jailbreak",
         "Flip Knife | Safari Mesh (Field Tested)\n\nI have one feel free to send me an offer for it\n\n[Tradelink](https://csgolounge.com/)",
         "Hey sweety, i need leave now if u want watch my nude photo i wait you here http://hookup12.com/ngosxrmfb",
         "* Karambit Black Pearl\n* 0.02137822 Float (unfortunate corner)\n* Non-Duped\n* Screenshot - http://imgur.com/a/Zvy5D\n* Metjm - http://s.metjm.net/0XymKVi.jpg\n* B/O - 500+ keys (Very Negotiable)\n* PC (500 keys) - https://imgur.com/a/5IWM3\n* C/O (485) - https://imgur.com/a/zgexV\n* My steam Acc. - https://steamcommunity.com/id/OfficialSnuffy/\n* Send me an offer here:\n* https://steamcommunity.com/tradeoffer/new/?partner=154014229&token=npsf8rwb",
         "They are interchangeable charger tips\n\nlink to similar ones here \nhttp://www.dealwinwin.com/Charging-Tips-for-THF-S54-5000mAh-Solar-Battery-Charger-THF-S54-CHA-ACC/",
         "0"
        ],
        [
         "36",
         "36",
         "Sue your father, destroy your relationship with him and report him to the police.\n\nYou can also sue for emotional damage, in addition to the physical damage of your PC.\n\nFinally, go to the library and read a book on basic punctuation!",
         "No legal advice: Do not offer or request legal advice.",
         "legaladvice",
         "Yeah this isn't anything to worry about.\n\nIf your under 18 and prostituting your probably a victim of sex trafficking and this just removes the punishment for being forced into prostitution. I doubt it was ever enforced anyway. \"Oh hey your safe from sex trafficking now, now your under arrest\"",
         "SHE ISNT A BIRTHING CHAMBER BUT EQUALLY THE BABY IS A PERSON WITH RIGHTS! SHE CAN DO WHATEVER SHE WANTS WITH HER BODY BUT SHE CANT KILL PEOPLE DO YOU FUCKING UNDERSTAND YOU IDIOT! THIS HAS NO FUCKING RELATION TO ANY FUCKING RELIGON IT IS BASIC HUMAN LAW YOU CANT MURDER PEOPLE! UNTIL SHE USES WHATEVER MAGIC TO ABSORB THE BABY AND RENDER ITS CONCIOUSNESS HER OWN THE BABY IS A PERSON!",
         "There's similar themes and there's plagiarism. There is an entire paragraph that's almost for word. Or are you going to live in denial, she lied about penning it herself AND anyone with any brain or spent time at Uni would laugh at how little they changed. Do you need help w a source?",
         "But did he yell surprise? It's not rape if you yell surprise",
         "1"
        ],
        [
         "37",
         "37",
         "Tell her you will sue her for $1,000,000,000 and her first born on Judge Judy in Canada if she doesn't stop contacting you.  That ought to show her how serious these threats are.",
         "No legal advice: Do not offer or request legal advice.",
         "legaladvice",
         "Guys leave the poor woman out of it, she is stuck with him just as we are. \n\nWhen applying for spousal green card, illegal work and overstay is forgiven (not to be mistaken with entering the country illegally which does not allow for an adjustment of status path) ",
         "Not really uplifting. Now legally if they split he has to pay child support and she could go after him for 16-18 years of back support.",
         "Next time she comes at you have your phone on, then stab a bitch.",
         "At parties, I only put rohypnol in my *own* drinks, for attention.",
         "1"
        ],
        [
         "38",
         "38",
         "And he won't be charged with a hate crime as no prosecutor will work to find a motive, lest they be deemed racist by the hate group known as #BLM.",
         "No legal advice: Do not offer or request legal advice.",
         "news",
         "No. It is not extortion if you say *pay me what you owe me or I will sue you.* That is the purposes of lawsuits. The \"threat\" is perfectly legal.\n\nIf she had said *pay me what you owe me or I will call the police.* that would be extortion.",
         "You don't get to half-ass a case just because the client is a scumbag. That's actually an ethics violation in and if itself. ",
         "Why not just ask for the gun and shoot yourself in the exact same spot where you were shot originally to make a duplicate/ replica bullet?",
         "NOTE: His BF was really violent and he is much older than her. I think that *she is not safe with her family and she is not safe with her BF*. She said that her cousin is at the hospital because of the beating which shows that her BF really beat him harder than he should. It seems he liked to do that. OP you are surrounded by assholes. The age gap and the violence show that one day you will be the one he will punch",
         "1"
        ],
        [
         "39",
         "39",
         "bitch will be in on your knees and open her legs with you http://recslut.party/?id2613",
         "No Advertising: Spam, referral links, unsolicited advertising, and promotional content are not allowed.",
         "pics",
         "Amanda Bynes naked!!! If you create a free account you can see her amut for free. Http://www.mygirlfund.com/amandabynes",
         "39 http://MySexFind.com - find girl for sex now 39!",
         "Disguise the Sky. Only 1 album http://youtu.be/ueEiGSt8viY",
         "Everything explain in 90 seconds https://www.youtube.com/watch?v=GIEwd837k5s",
         "1"
        ],
        [
         "40",
         "40",
         "**HD** Stream [Tottenham vs Chelsea Live Stream](http://watchvslivestream.online/chelsea.html)\n\n\nEnglish | Mobile:Yes",
         "No Advertising: Spam, referral links, unsolicited advertising, and promotional content are not allowed.",
         "soccerstreams",
         " she is  for free  therein  masturbate  http://annon.link/qiit",
         "FindSexToday . com - free girls for sex worldwide 26h0nowzvkoV7!",
         "I have a simple question: Why is my post being removed? I am advertising a software I created with 107 Overwatch tips that is on Fiverr.com.\n\nFor unknown reasons, this keeps getting removed and I am not getting a message saying why.\n\nI read the rules, and from what I can understand you can link your Amazon page and \"other shopping centers\", so why not Fiverr? Am I missing something?\n\nIf you could tell me why this post is being removed, that would be great. Thanks!",
         "From a photobook I'm trying to crowd-fund: https://www.kickstarter.com/projects/437799370/ozymandias-a-photo-book",
         "0"
        ],
        [
         "41",
         "41",
         "Well, you can't rape your woman because you've bought her from her parents... and your children are \"yours\", like your TV, to do as you please with them... and you were only \"helping\" your sisters to mature... so...",
         "No legal advice: Do not offer or request legal advice.",
         "worldnews",
         "We have great consumer protection laws. There's no liability for fraudulent charges. As long as you pay a bit of attention to your transaction history or statements, there's literally no risk. \n\nSo hop off your commie high horse, you commie. ",
         "You're right, there is a difference between tax evasion and tax avoidance. Thus the \"consult a lawyer\" bit.\n\nHowever, there is no doubt that this is an attempt to circumvent the gift tax law. It's arguably different than the Crummy trust because the gifts are being given at one time instead of year by year. ",
         "> deny all\n\nOnce you're on the soil you have every right to be there indefinately.",
         "Personally. I'd be wrong to tell you suicide isn't the answer and all that other bs. But I believe if a person is truly suffering from being alive they should be able to find their own way out of it. Shit I want to die almost every day but I've tried so many times I'm just afraid to fail again. I recommend trying to hang yourself maybe slit wrists or take sleeping pills",
         "1"
        ],
        [
         "42",
         "42",
         "[ساخت وبلاگ](http://parsablog.com)\n\nhttp://parsablog.com\n",
         "No Advertising: Spam, referral links, unsolicited advertising, and promotional content are not allowed.",
         "GetMotivated",
         "FindSexToday . com - free girls for sex worldwide 40hygzJvUtS14!",
         "HEY GUYS YOU CAN WIN A $275 POKÉMON PRIZE PACK  HERE : https://googlins.com/9U8U  ",
         "Mindsetonline.com for real research-based and actionable tips on how to break free from limitations you and society fabricate.",
         "League of Legends Biete Elo-Boost service an Fair, und seriös\nschnelles Elo boosting wird von mir angeboten  wenn dein interesse geweckt worden \nund du noch weitere fragen hast melde dich bei mir unter skype : vincent88622 preis verhandelbar",
         "0"
        ],
        [
         "43",
         "43",
         "Here's the link. \n\nhttp://www.powerhousetradingsystem.com/trading.html",
         "No Advertising: Spam, referral links, unsolicited advertising, and promotional content are not allowed.",
         "personalfinance",
         "Because I love you all\nhttp://hdporn720.net/cassidy-klein-teens-love-huge-cocks-12/",
         "Obtain Authentic identity cards and temporary residence license ( eliotburimoore@gmail.com )\n\nWe offer original quality passport, visa, driving license , identity cards, marriage certificates , diplomas , counterfeit money , etc. We have the best holograms and reproduction machines\nEmail: ............ eliotburimoore@gmail.com\nwhatsapp ....................... + 23772160843\nskype ........................ carlsonrock7\n",
         "[5 most searched female athletes](https://youtu.be/5U08B5TSGl0)",
         "Ive got an Bayonet | Damascus Steel ft, if your're interested \n\nhttps://steamcommunity.com/tradeoffer/new/?partner=215103279&token=fCan2TeW",
         "0"
        ],
        [
         "44",
         "44",
         "Sounds like she might've been planning a divorce and that's why she being such a cunt about it? Anyways a prenup is a must and if she can't accept that then you shouldn't be getting married to her.",
         "No legal advice: Do not offer or request legal advice.",
         "relationships",
         "You can legally pick any fruit that hangs over the property line.\n\nDoes the kids looks fruity? If so, you can keep it.",
         "The Saudi donation was a charitable one so it was legal.  This one will put tRump in prison.  tRump in prison.",
         "But it's cheaper to just shoot them than to perform a sterile operation. ",
         "u should take keys and items, and then cash that out, its less risky i would assume\n\nor sell it on... uknow",
         "1"
        ],
        [
         "45",
         "45",
         "The consequences are easy to understand.  For example, you fire off a job submission and they refuse you to hire someone else... you then rip off a complaint to the commission about how you identify as a minority for that position (male, female, some-sort-of-gendered)  and bingo, you have a valid case.\n\nWTF.",
         "No legal advice: Do not offer or request legal advice.",
         "CanadaPolitics",
         "My girlfriend and I came back from a party a couple weeks ago. I was tired but she was really horny that night for some reason.\n\nAfter initially protesting, I eventully, unenthusastically acquiesced to her playful begging.\n\nDid she rape me? Should I call the police?",
         "If the divorce is finalized before you receive the money, yes. You need to consult a divorce attorney.",
         "This makes the thread gold.  10/10.  \n\n\"So my brother is throwing a party with a lot of under aged people and drugs/alcohol.  Unrelated: can I have sex with a drunk 17 year old?\"",
         "Throw yourself off a bridge. Virtually no cost.  \nIn my younger years I spent a lot of time thinking about commiting suicide, so if you need any guidance, feel free to send me pm, maybe I can help preventing you from doing something stupid.",
         "1"
        ],
        [
         "46",
         "46",
         "Would you defend any booby trap? If I place a tripwire connected to a shotgun on my window, would you defend that?",
         "No legal advice: Do not offer or request legal advice.",
         "funny",
         "You could just go with the PTSD from the robbery route and go on disability.  Probably easier to prove and get the benefits from.  I know someone who did that for a similar reason but there was an actual assault. ",
         "you cant fix her body/brain. i would see how srs this suicidal thing is. Tell her u can help her end herself. Go to a tree prepare rope for her and let her go through with it, if she goes save her+you have extra legit proof, if not shes just using you(by that i dont mean she isnt thinking about it, but theres huge gap between thinking, attempting, and pulling it of successfully)",
         "These Trump signs use metal wires to stand in the ground correct? Wouldn't it be a shame if someone completed the circuit with a small 6V battery?",
         "Sexual assault usually carries a much shorter sentence then rape.",
         "1"
        ],
        [
         "47",
         "47",
         "Yes, no legal drama. It's simple: she gave the ring to you. That made it yours (\"executory gift\"). Then, you gave it to Sadie. It's now Sadie's. Man the fuck up.\n",
         "No legal advice: Do not offer or request legal advice.",
         "relationships",
         "It'll be dismissed: https://en.wikipedia.org/wiki/New_York_Times_Co._v._Sullivan\n\nThe first amendment law here is SUPER settled.",
         "You could just go with the PTSD from the robbery route and go on disability.  Probably easier to prove and get the benefits from.  I know someone who did that for a similar reason but there was an actual assault. ",
         "I have experience with Xanax as a prescription. I don't remember a lot from when I was on it, just what my husband has told me. Apparently I was a walking zombie. *Very* suggestible and *very* forgetful. That's at a recommended dose and with absolutely NO alcohol. \n\nIf I were in your place I would be treating your boyfriend like a victim of a drugging and sexual assault, not a cheater. ",
         "I'm of the opinion that beating your girlfriend as an impulsive reaction shouldn't raise as much question of moral character when compared to beating a cat, which requires inhibiting yourself from impulsively beating your wife but then deciding to exhibit physical aggression anyway on an unrelated party (cat).",
         "0"
        ],
        [
         "48",
         "48",
         "You could always kill him. Justice isn't just something other people give you, it's something you can take for yourself. ",
         "No legal advice: Do not offer or request legal advice.",
         "depression",
         "OPs sister has had papers filed for a legal kidnapping from her neighbor. I get this is legal advice, but perhaps a firearm is not a ridiculous suggestion given the circumstances.",
         "They don't in the US. It is illegal for any building to use untreated water in such a manner in the US. It sounds like regulations are more lax in Australia. ",
         "Those are horrible methods. Try opiate overdose. Drowning. Hypothermia. ",
         "I have photos of an 11yo making the first pose in pantyhose without underwear. She sent me on her own will",
         "1"
        ],
        [
         "49",
         "49",
         "Alright, to tell you the truth, I am not planning to visit Los Angeles anytime soon. I just needed to know why photography in private places with public access may be restricted.\n\nMy final thought: Take pictures where prohibited, BUT use a pen or necktie camera with a remote in your pocket, and act innocent. That way, I'll would have the chance to take pictures ANYWHERE without being harassed.",
         "No legal advice: Do not offer or request legal advice.",
         "legaladvice",
         "Manup, quit being a cry baby and get your forms. They are required by law to give them to you. You didn't file your taxes because of sad feelings? Yeah, not a valid defense.",
         "I regularly have sex with a girl about this age. Well, more like she regularly has sex with me.  The only thing she's in danger of is learning how to consume alcohol in a responsible manner.\n\nStrangely, it's legal for us to have sex but I'm not so sure about it being legal for her to drink.\n\n",
         "Short term it was amazing, knowing I had ended someones life, knowing I had planned it out perfectly. Long term sometimes I worry someone will find out, before I realize I am smarter than everyone and won't get caught.",
         "Buy some helium and a mask that you attach that helium onto.\nLet that helium out SLOWLY or it is going to hurt. Helium replaces the air in your lungs and you slowly drift off without your body noticing anything.\n\nBut I just answered your question, please don't kill yourself and if you do make sure it's a peaceful and painless way to go.",
         "1"
        ]
       ],
       "shape": {
        "columns": 9,
        "rows": 2029
       }
      },
      "text/html": [
       "<div>\n",
       "<style scoped>\n",
       "    .dataframe tbody tr th:only-of-type {\n",
       "        vertical-align: middle;\n",
       "    }\n",
       "\n",
       "    .dataframe tbody tr th {\n",
       "        vertical-align: top;\n",
       "    }\n",
       "\n",
       "    .dataframe thead th {\n",
       "        text-align: right;\n",
       "    }\n",
       "</style>\n",
       "<table border=\"1\" class=\"dataframe\">\n",
       "  <thead>\n",
       "    <tr style=\"text-align: right;\">\n",
       "      <th></th>\n",
       "      <th>row_id</th>\n",
       "      <th>body</th>\n",
       "      <th>rule</th>\n",
       "      <th>subreddit</th>\n",
       "      <th>positive_example_1</th>\n",
       "      <th>positive_example_2</th>\n",
       "      <th>negative_example_1</th>\n",
       "      <th>negative_example_2</th>\n",
       "      <th>rule_violation</th>\n",
       "    </tr>\n",
       "  </thead>\n",
       "  <tbody>\n",
       "    <tr>\n",
       "      <th>0</th>\n",
       "      <td>0</td>\n",
       "      <td>Banks don't want you to know this! Click here ...</td>\n",
       "      <td>No Advertising: Spam, referral links, unsolici...</td>\n",
       "      <td>Futurology</td>\n",
       "      <td>If you could tell your younger self something ...</td>\n",
       "      <td>hunt for lady for jack off in neighbourhood ht...</td>\n",
       "      <td>Watch Golden Globe Awards 2017 Live Online in ...</td>\n",
       "      <td>DOUBLE CEE x BANDS EPPS - \"BIRDS\"\\n\\nDOWNLOAD/...</td>\n",
       "      <td>0</td>\n",
       "    </tr>\n",
       "    <tr>\n",
       "      <th>1</th>\n",
       "      <td>1</td>\n",
       "      <td>SD Stream [ ENG Link 1] (http://www.sportsstre...</td>\n",
       "      <td>No Advertising: Spam, referral links, unsolici...</td>\n",
       "      <td>soccerstreams</td>\n",
       "      <td>[I wanna kiss you all over! Stunning!](http://...</td>\n",
       "      <td>LOLGA.COM is One of the First Professional Onl...</td>\n",
       "      <td>#Rapper \\n🚨Straight Outta Cross Keys SC 🚨YouTu...</td>\n",
       "      <td>[15 Amazing Hidden Features Of Google Search Y...</td>\n",
       "      <td>0</td>\n",
       "    </tr>\n",
       "    <tr>\n",
       "      <th>2</th>\n",
       "      <td>2</td>\n",
       "      <td>Lol. Try appealing the ban and say you won't d...</td>\n",
       "      <td>No legal advice: Do not offer or request legal...</td>\n",
       "      <td>pcmasterrace</td>\n",
       "      <td>Don't break up with him or call the cops.  If ...</td>\n",
       "      <td>It'll be dismissed: https://en.wikipedia.org/w...</td>\n",
       "      <td>Where is there a site that still works where y...</td>\n",
       "      <td>Because this statement of his is true. It isn'...</td>\n",
       "      <td>1</td>\n",
       "    </tr>\n",
       "    <tr>\n",
       "      <th>3</th>\n",
       "      <td>3</td>\n",
       "      <td>she will come your home open her legs with  an...</td>\n",
       "      <td>No Advertising: Spam, referral links, unsolici...</td>\n",
       "      <td>sex</td>\n",
       "      <td>Selling Tyrande codes for 3€ to paypal. PM. \\n...</td>\n",
       "      <td>tight pussy watch for your cock get her at thi...</td>\n",
       "      <td>NSFW(obviously) http://spankbang.com/iy3u/vide...</td>\n",
       "      <td>Good News ::Download WhatsApp 2.16.230 APK for...</td>\n",
       "      <td>1</td>\n",
       "    </tr>\n",
       "    <tr>\n",
       "      <th>4</th>\n",
       "      <td>4</td>\n",
       "      <td>code free tyrande ---&gt;&gt;&gt; [Imgur](http://i.imgu...</td>\n",
       "      <td>No Advertising: Spam, referral links, unsolici...</td>\n",
       "      <td>hearthstone</td>\n",
       "      <td>wow!! amazing reminds me of the old days.Well...</td>\n",
       "      <td>seek for lady for sex in around http://p77.pl/...</td>\n",
       "      <td>must be watch movie https://sites.google.com/s...</td>\n",
       "      <td>We're streaming Pokemon Veitnamese Crystal RIG...</td>\n",
       "      <td>1</td>\n",
       "    </tr>\n",
       "    <tr>\n",
       "      <th>...</th>\n",
       "      <td>...</td>\n",
       "      <td>...</td>\n",
       "      <td>...</td>\n",
       "      <td>...</td>\n",
       "      <td>...</td>\n",
       "      <td>...</td>\n",
       "      <td>...</td>\n",
       "      <td>...</td>\n",
       "      <td>...</td>\n",
       "    </tr>\n",
       "    <tr>\n",
       "      <th>2024</th>\n",
       "      <td>2024</td>\n",
       "      <td>Please edit your post so it is readable. These...</td>\n",
       "      <td>No legal advice: Do not offer or request legal...</td>\n",
       "      <td>relationships</td>\n",
       "      <td>I'm not ok with this in anyway, and think you ...</td>\n",
       "      <td>See a lawyer under the guise that you want thi...</td>\n",
       "      <td>This is just untrue.  OP is 13, not an adult -...</td>\n",
       "      <td>Why should I care about all the bicyclists I i...</td>\n",
       "      <td>1</td>\n",
       "    </tr>\n",
       "    <tr>\n",
       "      <th>2025</th>\n",
       "      <td>2025</td>\n",
       "      <td>Yes, and in a right to work state they can eve...</td>\n",
       "      <td>No legal advice: Do not offer or request legal...</td>\n",
       "      <td>legaladvice</td>\n",
       "      <td>Move as much of your assets as you can offshor...</td>\n",
       "      <td>We have great consumer protection laws. There'...</td>\n",
       "      <td>LPT piratebay, transmission, vpn. Get the musi...</td>\n",
       "      <td>It's not so much that I killed them, it's that...</td>\n",
       "      <td>0</td>\n",
       "    </tr>\n",
       "    <tr>\n",
       "      <th>2026</th>\n",
       "      <td>2026</td>\n",
       "      <td>**HD** Streams: |ENG **HD**[ Watch here..PC &amp; ...</td>\n",
       "      <td>No Advertising: Spam, referral links, unsolici...</td>\n",
       "      <td>soccerstreams</td>\n",
       "      <td>stitopdisca1987.tumblr.com - sex Take girl for...</td>\n",
       "      <td>this girl get sex going to  to old http://mrk....</td>\n",
       "      <td>NO ADS | NO ADS | NO ADS\\n\\nWe show all SOCCER...</td>\n",
       "      <td>[So great! Thanks for sharing.](http://www.che...</td>\n",
       "      <td>1</td>\n",
       "    </tr>\n",
       "    <tr>\n",
       "      <th>2027</th>\n",
       "      <td>2027</td>\n",
       "      <td>No. Not when doing so obviously presents a saf...</td>\n",
       "      <td>No legal advice: Do not offer or request legal...</td>\n",
       "      <td>politics</td>\n",
       "      <td>SHE ISNT A BIRTHING CHAMBER BUT EQUALLY THE BA...</td>\n",
       "      <td>Jail? What are you, ten years old? If they pro...</td>\n",
       "      <td>Who cares about that when I can keep raping in...</td>\n",
       "      <td>send me a private message; I may be able to he...</td>\n",
       "      <td>1</td>\n",
       "    </tr>\n",
       "    <tr>\n",
       "      <th>2028</th>\n",
       "      <td>2028</td>\n",
       "      <td>&gt; CA is an at fault state so they will not be ...</td>\n",
       "      <td>No legal advice: Do not offer or request legal...</td>\n",
       "      <td>legaladvice</td>\n",
       "      <td>[Yes, it is. In the USA, at least](https://www...</td>\n",
       "      <td>Never pay a civil demand. \\n\\nIt's a bluff and...</td>\n",
       "      <td>Where is there a site that still works where y...</td>\n",
       "      <td>Steal a car from an elderly person who won't n...</td>\n",
       "      <td>1</td>\n",
       "    </tr>\n",
       "  </tbody>\n",
       "</table>\n",
       "<p>2029 rows × 9 columns</p>\n",
       "</div>"
      ],
      "text/plain": [
       "      row_id                                               body  \\\n",
       "0          0  Banks don't want you to know this! Click here ...   \n",
       "1          1  SD Stream [ ENG Link 1] (http://www.sportsstre...   \n",
       "2          2  Lol. Try appealing the ban and say you won't d...   \n",
       "3          3  she will come your home open her legs with  an...   \n",
       "4          4  code free tyrande --->>> [Imgur](http://i.imgu...   \n",
       "...      ...                                                ...   \n",
       "2024    2024  Please edit your post so it is readable. These...   \n",
       "2025    2025  Yes, and in a right to work state they can eve...   \n",
       "2026    2026  **HD** Streams: |ENG **HD**[ Watch here..PC & ...   \n",
       "2027    2027  No. Not when doing so obviously presents a saf...   \n",
       "2028    2028  > CA is an at fault state so they will not be ...   \n",
       "\n",
       "                                                   rule      subreddit  \\\n",
       "0     No Advertising: Spam, referral links, unsolici...     Futurology   \n",
       "1     No Advertising: Spam, referral links, unsolici...  soccerstreams   \n",
       "2     No legal advice: Do not offer or request legal...   pcmasterrace   \n",
       "3     No Advertising: Spam, referral links, unsolici...            sex   \n",
       "4     No Advertising: Spam, referral links, unsolici...    hearthstone   \n",
       "...                                                 ...            ...   \n",
       "2024  No legal advice: Do not offer or request legal...  relationships   \n",
       "2025  No legal advice: Do not offer or request legal...    legaladvice   \n",
       "2026  No Advertising: Spam, referral links, unsolici...  soccerstreams   \n",
       "2027  No legal advice: Do not offer or request legal...       politics   \n",
       "2028  No legal advice: Do not offer or request legal...    legaladvice   \n",
       "\n",
       "                                     positive_example_1  \\\n",
       "0     If you could tell your younger self something ...   \n",
       "1     [I wanna kiss you all over! Stunning!](http://...   \n",
       "2     Don't break up with him or call the cops.  If ...   \n",
       "3     Selling Tyrande codes for 3€ to paypal. PM. \\n...   \n",
       "4      wow!! amazing reminds me of the old days.Well...   \n",
       "...                                                 ...   \n",
       "2024  I'm not ok with this in anyway, and think you ...   \n",
       "2025  Move as much of your assets as you can offshor...   \n",
       "2026  stitopdisca1987.tumblr.com - sex Take girl for...   \n",
       "2027  SHE ISNT A BIRTHING CHAMBER BUT EQUALLY THE BA...   \n",
       "2028  [Yes, it is. In the USA, at least](https://www...   \n",
       "\n",
       "                                     positive_example_2  \\\n",
       "0     hunt for lady for jack off in neighbourhood ht...   \n",
       "1     LOLGA.COM is One of the First Professional Onl...   \n",
       "2     It'll be dismissed: https://en.wikipedia.org/w...   \n",
       "3     tight pussy watch for your cock get her at thi...   \n",
       "4     seek for lady for sex in around http://p77.pl/...   \n",
       "...                                                 ...   \n",
       "2024  See a lawyer under the guise that you want thi...   \n",
       "2025  We have great consumer protection laws. There'...   \n",
       "2026  this girl get sex going to  to old http://mrk....   \n",
       "2027  Jail? What are you, ten years old? If they pro...   \n",
       "2028  Never pay a civil demand. \\n\\nIt's a bluff and...   \n",
       "\n",
       "                                     negative_example_1  \\\n",
       "0     Watch Golden Globe Awards 2017 Live Online in ...   \n",
       "1     #Rapper \\n🚨Straight Outta Cross Keys SC 🚨YouTu...   \n",
       "2     Where is there a site that still works where y...   \n",
       "3     NSFW(obviously) http://spankbang.com/iy3u/vide...   \n",
       "4     must be watch movie https://sites.google.com/s...   \n",
       "...                                                 ...   \n",
       "2024  This is just untrue.  OP is 13, not an adult -...   \n",
       "2025  LPT piratebay, transmission, vpn. Get the musi...   \n",
       "2026  NO ADS | NO ADS | NO ADS\\n\\nWe show all SOCCER...   \n",
       "2027  Who cares about that when I can keep raping in...   \n",
       "2028  Where is there a site that still works where y...   \n",
       "\n",
       "                                     negative_example_2  rule_violation  \n",
       "0     DOUBLE CEE x BANDS EPPS - \"BIRDS\"\\n\\nDOWNLOAD/...               0  \n",
       "1     [15 Amazing Hidden Features Of Google Search Y...               0  \n",
       "2     Because this statement of his is true. It isn'...               1  \n",
       "3     Good News ::Download WhatsApp 2.16.230 APK for...               1  \n",
       "4     We're streaming Pokemon Veitnamese Crystal RIG...               1  \n",
       "...                                                 ...             ...  \n",
       "2024  Why should I care about all the bicyclists I i...               1  \n",
       "2025  It's not so much that I killed them, it's that...               0  \n",
       "2026  [So great! Thanks for sharing.](http://www.che...               1  \n",
       "2027  send me a private message; I may be able to he...               1  \n",
       "2028  Steal a car from an elderly person who won't n...               1  \n",
       "\n",
       "[2029 rows x 9 columns]"
      ]
     },
     "execution_count": 3,
     "metadata": {},
     "output_type": "execute_result"
    }
   ],
   "source": [
    "df = pd.read_csv('train.csv')\n",
    "df"
   ]
  },
  {
   "cell_type": "code",
   "execution_count": 4,
   "id": "4f99970d",
   "metadata": {},
   "outputs": [
    {
     "name": "stdout",
     "output_type": "stream",
     "text": [
      "RULE No Advertising: Spam, referral links, unsolicited advertising, and promotional content are not allowed. SUBREDDIT Futurology\n",
      "BODY Banks don't want you to know this! Click here to know more!\n",
      "positive 1 If you could tell your younger self something different about sex, what would that be?\n",
      "\n",
      "i AM IN A CONTEST TO WIN FUNDING FOR MY SEX POSITIVE FILM: VOTE HERE:\n",
      "\n",
      "http://sheknows.offerpop.com/campaign/813112/entry/v144417 \n",
      "positive 2 hunt for lady for jack off in neighbourhood http://url.inmusi.com/gakq\n",
      "negative 1 Watch Golden Globe Awards 2017 Live Online in HD Coverage without ADS (VIP STREAMS)\n",
      "=\n",
      "\n",
      "HD STREAM QUALITY >>> [WATCH LINK1](http://forum.submitexpress.com/viewtopic.php?f=9&t=215858)\n",
      "=\n",
      "\n",
      "HD BROADCASTING QUALITY >>> [WATCH LINK1](http://forum.submitexpress.com/viewtopic.php?f=9&t=215858)\n",
      "=\n",
      "\n",
      "Mobile Compatibility: YES\n",
      "=\n",
      "\n",
      "NO ADS | NO ADS | ADS\n",
      "=\n",
      " \n",
      "negative 2 DOUBLE CEE x BANDS EPPS - \"BIRDS\"\n",
      "\n",
      "DOWNLOAD/STREAM:\n",
      "\n",
      "http://music.theblacksmithed.com/download/birds/\n",
      "----------------------------------------------------------------------------------------------------\n",
      "RULE No Advertising: Spam, referral links, unsolicited advertising, and promotional content are not allowed. SUBREDDIT soccerstreams\n",
      "BODY SD Stream [ ENG Link 1] (http://www.sportsstreams247.com/astra-giurgiu-vs-fc-austria-wien/)\n",
      "positive 1 [I wanna kiss you all over! Stunning!](http://www.oilflush.life/2017/01/26/6/) \n",
      "positive 2 LOLGA.COM is One of the First Professional Online Gold sites. By Now, As A Game Gold Seller, we've over more than 5 yrs Of Experience And Can Pass That On To Our Customers.\n",
      "negative 1 #Rapper \n",
      "🚨Straight Outta Cross Keys SC 🚨YouTube Search Beanie 864 Click Link BELOW To Hear Hit Single\n",
      "  \"Ah Man\" \n",
      " Beanie 864 FEAT King Kota \n",
      " (King Kota Is Only 15!) Lit 🌡🔥👍💵💯Fr Fr \n",
      "https://youtu.be/tLqbV1Jmt5Y \n",
      "negative 2 [15 Amazing Hidden Features Of Google Search You Probably Don’t Know](http://www.madpeoples.com/2017/01/02  No one would argue the fact that Google is one of the most useful sihttp://www.madpeoples.com/2016/12/31/15-amazing-hidden-features-of-google-search-you-probably-dont-know/tes on the Internet. Unfortunately, most people only use about...?utm_source=reddit&utm_campaign=samreen&utm_medium=cpc)\n",
      "----------------------------------------------------------------------------------------------------\n"
     ]
    }
   ],
   "source": [
    "def print_df(df):\n",
    "    for i in range(2):\n",
    "        print(f\"RULE {df['rule'].iloc[i]} SUBREDDIT {df['subreddit'].iloc[i]}\")\n",
    "        print(f\"BODY {df['body'].iloc[i]}\")\n",
    "        print(f\"positive 1 {df['positive_example_1'].iloc[i]} \\npositive 2 {df['positive_example_2'].iloc[i]}\")\n",
    "        print(f\"negative 1 {df['negative_example_1'].iloc[i]} \\nnegative 2 {df['negative_example_2'].iloc[i]}\")\n",
    "        print(\"--\"*50)\n",
    "print_df(df)    \n"
   ]
  },
  {
   "cell_type": "code",
   "execution_count": 5,
   "id": "3f600a1e",
   "metadata": {},
   "outputs": [
    {
     "data": {
      "text/plain": [
       "'\\n caps , space , puntatiom , links --> how to handle ?\\n'"
      ]
     },
     "execution_count": 5,
     "metadata": {},
     "output_type": "execute_result"
    }
   ],
   "source": [
    "## possible cleaning ,\n",
    "\"\"\"\n",
    " caps , space , puntatiom , links --> how to handle ?\n",
    "\"\"\""
   ]
  },
  {
   "cell_type": "code",
   "execution_count": 6,
   "id": "a17ad2dc",
   "metadata": {},
   "outputs": [],
   "source": [
    "# clean spaces use regex \n",
    "import re\n",
    "\n",
    "# Remove extra spaces from all string columns\n",
    "def clean_spaces(df):\n",
    "    str_cols = df.select_dtypes(include=['object']).columns\n",
    "    for col in str_cols:        \n",
    "        df[col] = df[col].astype(str).str.replace(r'\\s+', ' ', regex=True).str.strip()\n",
    "    return df\n",
    "\n",
    "df = clean_spaces(df)"
   ]
  },
  {
   "cell_type": "code",
   "execution_count": 7,
   "id": "9c215513",
   "metadata": {},
   "outputs": [
    {
     "name": "stdout",
     "output_type": "stream",
     "text": [
      "RULE No Advertising: Spam, referral links, unsolicited advertising, and promotional content are not allowed. SUBREDDIT Futurology\n",
      "BODY Banks don't want you to know this! Click here to know more!\n",
      "positive 1 If you could tell your younger self something different about sex, what would that be? i AM IN A CONTEST TO WIN FUNDING FOR MY SEX POSITIVE FILM: VOTE HERE: http://sheknows.offerpop.com/campaign/813112/entry/v144417 \n",
      "positive 2 hunt for lady for jack off in neighbourhood http://url.inmusi.com/gakq\n",
      "negative 1 Watch Golden Globe Awards 2017 Live Online in HD Coverage without ADS (VIP STREAMS) = HD STREAM QUALITY >>> [WATCH LINK1](http://forum.submitexpress.com/viewtopic.php?f=9&t=215858) = HD BROADCASTING QUALITY >>> [WATCH LINK1](http://forum.submitexpress.com/viewtopic.php?f=9&t=215858) = Mobile Compatibility: YES = NO ADS | NO ADS | ADS = \n",
      "negative 2 DOUBLE CEE x BANDS EPPS - \"BIRDS\" DOWNLOAD/STREAM: http://music.theblacksmithed.com/download/birds/\n",
      "----------------------------------------------------------------------------------------------------\n",
      "RULE No Advertising: Spam, referral links, unsolicited advertising, and promotional content are not allowed. SUBREDDIT soccerstreams\n",
      "BODY SD Stream [ ENG Link 1] (http://www.sportsstreams247.com/astra-giurgiu-vs-fc-austria-wien/)\n",
      "positive 1 [I wanna kiss you all over! Stunning!](http://www.oilflush.life/2017/01/26/6/) \n",
      "positive 2 LOLGA.COM is One of the First Professional Online Gold sites. By Now, As A Game Gold Seller, we've over more than 5 yrs Of Experience And Can Pass That On To Our Customers.\n",
      "negative 1 #Rapper 🚨Straight Outta Cross Keys SC 🚨YouTube Search Beanie 864 Click Link BELOW To Hear Hit Single \"Ah Man\" Beanie 864 FEAT King Kota (King Kota Is Only 15!) Lit 🌡🔥👍💵💯Fr Fr https://youtu.be/tLqbV1Jmt5Y \n",
      "negative 2 [15 Amazing Hidden Features Of Google Search You Probably Don’t Know](http://www.madpeoples.com/2017/01/02 No one would argue the fact that Google is one of the most useful sihttp://www.madpeoples.com/2016/12/31/15-amazing-hidden-features-of-google-search-you-probably-dont-know/tes on the Internet. Unfortunately, most people only use about...?utm_source=reddit&utm_campaign=samreen&utm_medium=cpc)\n",
      "----------------------------------------------------------------------------------------------------\n"
     ]
    }
   ],
   "source": [
    "print_df(df)"
   ]
  },
  {
   "cell_type": "code",
   "execution_count": 14,
   "id": "d4f8fdd2",
   "metadata": {},
   "outputs": [
    {
     "name": "stderr",
     "output_type": "stream",
     "text": [
      "No sentence-transformers model found with name bert-base-uncased. Creating a new one with mean pooling.\n"
     ]
    },
    {
     "data": {
      "application/vnd.jupyter.widget-view+json": {
       "model_id": "0bf3680f4a5a4dfb90f7b67291cb0cf5",
       "version_major": 2,
       "version_minor": 0
      },
      "text/plain": [
       "Computing widget examples:   0%|          | 0/1 [00:00<?, ?example/s]"
      ]
     },
     "metadata": {},
     "output_type": "display_data"
    },
    {
     "data": {
      "text/html": [
       "\n",
       "    <div>\n",
       "      \n",
       "      <progress value='2' max='2' style='width:300px; height:20px; vertical-align: middle;'></progress>\n",
       "      [2/2 00:00, Epoch 2/2]\n",
       "    </div>\n",
       "    <table border=\"1\" class=\"dataframe\">\n",
       "  <thead>\n",
       " <tr style=\"text-align: left;\">\n",
       "      <th>Step</th>\n",
       "      <th>Training Loss</th>\n",
       "    </tr>\n",
       "  </thead>\n",
       "  <tbody>\n",
       "  </tbody>\n",
       "</table><p>"
      ],
      "text/plain": [
       "<IPython.core.display.HTML object>"
      ]
     },
     "metadata": {},
     "output_type": "display_data"
    }
   ],
   "source": [
    "# pip install sentence-transformers\n",
    "from sentence_transformers import SentenceTransformer, InputExample, losses, SentencesDataset\n",
    "from torch.utils.data import DataLoader\n",
    "\n",
    "model = SentenceTransformer(\"bert-base-uncased\")\n",
    "train_examples = [\n",
    "    InputExample(texts=[\"a red apple\", \"green apples are tasty\", \"the capital of France is Paris\"]),\n",
    "    # texts=[anchor, positive, negative]\n",
    "]\n",
    "train_dataset = SentencesDataset(train_examples, model)\n",
    "train_dataloader = DataLoader(train_dataset, shuffle=True, batch_size=32)\n",
    "train_loss = losses.TripletLoss(model=model, distance_metric=losses.SiameseDistanceMetric.COSINE_DISTANCE)\n",
    "\n",
    "model.fit(train_objectives=[(train_dataloader, train_loss)], epochs=2, warmup_steps=100)\n",
    "emb = model.encode([\"your sentence here\" , 'fsf' ,'fdfdgg'], convert_to_tensor=True, normalize_embeddings=True)\n"
   ]
  },
  {
   "cell_type": "code",
   "execution_count": 8,
   "id": "970b8d33",
   "metadata": {},
   "outputs": [
    {
     "name": "stdout",
     "output_type": "stream",
     "text": [
      "torch.Size([3, 768])\n"
     ]
    }
   ],
   "source": [
    "# emb = model.encode([\"your sentence here\"], convert_to_tensor=True, normalize_embeddings=True)\n",
    "print(emb.shape)"
   ]
  },
  {
   "cell_type": "code",
   "execution_count": 4,
   "id": "249db6f3",
   "metadata": {},
   "outputs": [
    {
     "ename": "ImportError",
     "evalue": "cannot import name 'GenerationMixin' from 'transformers.generation' (c:\\Users\\manis\\anaconda3\\envs\\pytorch\\Lib\\site-packages\\transformers\\generation\\__init__.py)",
     "output_type": "error",
     "traceback": [
      "\u001b[31m---------------------------------------------------------------------------\u001b[39m",
      "\u001b[31mImportError\u001b[39m                               Traceback (most recent call last)",
      "\u001b[36mCell\u001b[39m\u001b[36m \u001b[39m\u001b[32mIn[4]\u001b[39m\u001b[32m, line 1\u001b[39m\n\u001b[32m----> \u001b[39m\u001b[32m1\u001b[39m \u001b[38;5;28;01mfrom\u001b[39;00m\u001b[38;5;250m \u001b[39m\u001b[34;01msentence_transformers\u001b[39;00m\u001b[38;5;250m \u001b[39m\u001b[38;5;28;01mimport\u001b[39;00m SentenceTransformer\n\u001b[32m      2\u001b[39m \u001b[38;5;28;01mimport\u001b[39;00m\u001b[38;5;250m \u001b[39m\u001b[34;01mtorch\u001b[39;00m\n\u001b[32m      4\u001b[39m model = SentenceTransformer(\u001b[33m\"\u001b[39m\u001b[33mbert-base-uncased\u001b[39m\u001b[33m\"\u001b[39m)\n",
      "\u001b[36mFile \u001b[39m\u001b[32mc:\\Users\\manis\\anaconda3\\envs\\pytorch\\Lib\\site-packages\\sentence_transformers\\__init__.py:15\u001b[39m\n\u001b[32m      8\u001b[39m \u001b[38;5;28;01mimport\u001b[39;00m\u001b[38;5;250m \u001b[39m\u001b[34;01mwarnings\u001b[39;00m\n\u001b[32m     10\u001b[39m \u001b[38;5;28;01mfrom\u001b[39;00m\u001b[38;5;250m \u001b[39m\u001b[34;01msentence_transformers\u001b[39;00m\u001b[34;01m.\u001b[39;00m\u001b[34;01mbackend\u001b[39;00m\u001b[38;5;250m \u001b[39m\u001b[38;5;28;01mimport\u001b[39;00m (\n\u001b[32m     11\u001b[39m     export_dynamic_quantized_onnx_model,\n\u001b[32m     12\u001b[39m     export_optimized_onnx_model,\n\u001b[32m     13\u001b[39m     export_static_quantized_openvino_model,\n\u001b[32m     14\u001b[39m )\n\u001b[32m---> \u001b[39m\u001b[32m15\u001b[39m \u001b[38;5;28;01mfrom\u001b[39;00m\u001b[38;5;250m \u001b[39m\u001b[34;01msentence_transformers\u001b[39;00m\u001b[34;01m.\u001b[39;00m\u001b[34;01mcross_encoder\u001b[39;00m\u001b[38;5;250m \u001b[39m\u001b[38;5;28;01mimport\u001b[39;00m (\n\u001b[32m     16\u001b[39m     CrossEncoder,\n\u001b[32m     17\u001b[39m     CrossEncoderModelCardData,\n\u001b[32m     18\u001b[39m     CrossEncoderTrainer,\n\u001b[32m     19\u001b[39m     CrossEncoderTrainingArguments,\n\u001b[32m     20\u001b[39m )\n\u001b[32m     21\u001b[39m \u001b[38;5;28;01mfrom\u001b[39;00m\u001b[38;5;250m \u001b[39m\u001b[34;01msentence_transformers\u001b[39;00m\u001b[34;01m.\u001b[39;00m\u001b[34;01mdatasets\u001b[39;00m\u001b[38;5;250m \u001b[39m\u001b[38;5;28;01mimport\u001b[39;00m ParallelSentencesDataset, SentencesDataset\n\u001b[32m     22\u001b[39m \u001b[38;5;28;01mfrom\u001b[39;00m\u001b[38;5;250m \u001b[39m\u001b[34;01msentence_transformers\u001b[39;00m\u001b[34;01m.\u001b[39;00m\u001b[34;01mLoggingHandler\u001b[39;00m\u001b[38;5;250m \u001b[39m\u001b[38;5;28;01mimport\u001b[39;00m LoggingHandler\n",
      "\u001b[36mFile \u001b[39m\u001b[32mc:\\Users\\manis\\anaconda3\\envs\\pytorch\\Lib\\site-packages\\sentence_transformers\\cross_encoder\\__init__.py:3\u001b[39m\n\u001b[32m      1\u001b[39m \u001b[38;5;28;01mfrom\u001b[39;00m\u001b[38;5;250m \u001b[39m\u001b[34;01m__future__\u001b[39;00m\u001b[38;5;250m \u001b[39m\u001b[38;5;28;01mimport\u001b[39;00m annotations\n\u001b[32m----> \u001b[39m\u001b[32m3\u001b[39m \u001b[38;5;28;01mfrom\u001b[39;00m\u001b[38;5;250m \u001b[39m\u001b[34;01m.\u001b[39;00m\u001b[34;01mCrossEncoder\u001b[39;00m\u001b[38;5;250m \u001b[39m\u001b[38;5;28;01mimport\u001b[39;00m CrossEncoder\n\u001b[32m      4\u001b[39m \u001b[38;5;28;01mfrom\u001b[39;00m\u001b[38;5;250m \u001b[39m\u001b[34;01m.\u001b[39;00m\u001b[34;01mmodel_card\u001b[39;00m\u001b[38;5;250m \u001b[39m\u001b[38;5;28;01mimport\u001b[39;00m CrossEncoderModelCardData\n\u001b[32m      5\u001b[39m \u001b[38;5;28;01mfrom\u001b[39;00m\u001b[38;5;250m \u001b[39m\u001b[34;01m.\u001b[39;00m\u001b[34;01mtrainer\u001b[39;00m\u001b[38;5;250m \u001b[39m\u001b[38;5;28;01mimport\u001b[39;00m CrossEncoderTrainer\n",
      "\u001b[36mFile \u001b[39m\u001b[32mc:\\Users\\manis\\anaconda3\\envs\\pytorch\\Lib\\site-packages\\sentence_transformers\\cross_encoder\\CrossEncoder.py:16\u001b[39m\n\u001b[32m     14\u001b[39m \u001b[38;5;28;01mfrom\u001b[39;00m\u001b[38;5;250m \u001b[39m\u001b[34;01mtorch\u001b[39;00m\u001b[38;5;250m \u001b[39m\u001b[38;5;28;01mimport\u001b[39;00m nn\n\u001b[32m     15\u001b[39m \u001b[38;5;28;01mfrom\u001b[39;00m\u001b[38;5;250m \u001b[39m\u001b[34;01mtqdm\u001b[39;00m\u001b[34;01m.\u001b[39;00m\u001b[34;01mautonotebook\u001b[39;00m\u001b[38;5;250m \u001b[39m\u001b[38;5;28;01mimport\u001b[39;00m trange\n\u001b[32m---> \u001b[39m\u001b[32m16\u001b[39m \u001b[38;5;28;01mfrom\u001b[39;00m\u001b[38;5;250m \u001b[39m\u001b[34;01mtransformers\u001b[39;00m\u001b[38;5;250m \u001b[39m\u001b[38;5;28;01mimport\u001b[39;00m (\n\u001b[32m     17\u001b[39m     AutoConfig,\n\u001b[32m     18\u001b[39m     AutoModelForSequenceClassification,\n\u001b[32m     19\u001b[39m     AutoTokenizer,\n\u001b[32m     20\u001b[39m     PretrainedConfig,\n\u001b[32m     21\u001b[39m     PreTrainedModel,\n\u001b[32m     22\u001b[39m     PreTrainedTokenizer,\n\u001b[32m     23\u001b[39m )\n\u001b[32m     24\u001b[39m \u001b[38;5;28;01mfrom\u001b[39;00m\u001b[38;5;250m \u001b[39m\u001b[34;01mtransformers\u001b[39;00m\u001b[34;01m.\u001b[39;00m\u001b[34;01mutils\u001b[39;00m\u001b[38;5;250m \u001b[39m\u001b[38;5;28;01mimport\u001b[39;00m PushToHubMixin\n\u001b[32m     25\u001b[39m \u001b[38;5;28;01mfrom\u001b[39;00m\u001b[38;5;250m \u001b[39m\u001b[34;01mtyping_extensions\u001b[39;00m\u001b[38;5;250m \u001b[39m\u001b[38;5;28;01mimport\u001b[39;00m deprecated\n",
      "\u001b[36mFile \u001b[39m\u001b[32mc:\\Users\\manis\\anaconda3\\envs\\pytorch\\Lib\\site-packages\\transformers\\utils\\import_utils.py:2292\u001b[39m, in \u001b[36m_LazyModule.__getattr__\u001b[39m\u001b[34m(self, name)\u001b[39m\n\u001b[32m   2290\u001b[39m \u001b[38;5;28;01melif\u001b[39;00m name \u001b[38;5;129;01min\u001b[39;00m \u001b[38;5;28mself\u001b[39m._class_to_module:\n\u001b[32m   2291\u001b[39m     \u001b[38;5;28;01mtry\u001b[39;00m:\n\u001b[32m-> \u001b[39m\u001b[32m2292\u001b[39m         module = \u001b[38;5;28;43mself\u001b[39;49m\u001b[43m.\u001b[49m\u001b[43m_get_module\u001b[49m\u001b[43m(\u001b[49m\u001b[38;5;28;43mself\u001b[39;49m\u001b[43m.\u001b[49m\u001b[43m_class_to_module\u001b[49m\u001b[43m[\u001b[49m\u001b[43mname\u001b[49m\u001b[43m]\u001b[49m\u001b[43m)\u001b[49m\n\u001b[32m   2293\u001b[39m         value = \u001b[38;5;28mgetattr\u001b[39m(module, name)\n\u001b[32m   2294\u001b[39m     \u001b[38;5;28;01mexcept\u001b[39;00m (\u001b[38;5;167;01mModuleNotFoundError\u001b[39;00m, \u001b[38;5;167;01mRuntimeError\u001b[39;00m) \u001b[38;5;28;01mas\u001b[39;00m e:\n",
      "\u001b[36mFile \u001b[39m\u001b[32mc:\\Users\\manis\\anaconda3\\envs\\pytorch\\Lib\\site-packages\\transformers\\utils\\import_utils.py:2322\u001b[39m, in \u001b[36m_LazyModule._get_module\u001b[39m\u001b[34m(self, module_name)\u001b[39m\n\u001b[32m   2320\u001b[39m     \u001b[38;5;28;01mreturn\u001b[39;00m importlib.import_module(\u001b[33m\"\u001b[39m\u001b[33m.\u001b[39m\u001b[33m\"\u001b[39m + module_name, \u001b[38;5;28mself\u001b[39m.\u001b[34m__name__\u001b[39m)\n\u001b[32m   2321\u001b[39m \u001b[38;5;28;01mexcept\u001b[39;00m \u001b[38;5;167;01mException\u001b[39;00m \u001b[38;5;28;01mas\u001b[39;00m e:\n\u001b[32m-> \u001b[39m\u001b[32m2322\u001b[39m     \u001b[38;5;28;01mraise\u001b[39;00m e\n",
      "\u001b[36mFile \u001b[39m\u001b[32mc:\\Users\\manis\\anaconda3\\envs\\pytorch\\Lib\\site-packages\\transformers\\utils\\import_utils.py:2320\u001b[39m, in \u001b[36m_LazyModule._get_module\u001b[39m\u001b[34m(self, module_name)\u001b[39m\n\u001b[32m   2318\u001b[39m \u001b[38;5;28;01mdef\u001b[39;00m\u001b[38;5;250m \u001b[39m\u001b[34m_get_module\u001b[39m(\u001b[38;5;28mself\u001b[39m, module_name: \u001b[38;5;28mstr\u001b[39m):\n\u001b[32m   2319\u001b[39m     \u001b[38;5;28;01mtry\u001b[39;00m:\n\u001b[32m-> \u001b[39m\u001b[32m2320\u001b[39m         \u001b[38;5;28;01mreturn\u001b[39;00m \u001b[43mimportlib\u001b[49m\u001b[43m.\u001b[49m\u001b[43mimport_module\u001b[49m\u001b[43m(\u001b[49m\u001b[33;43m\"\u001b[39;49m\u001b[33;43m.\u001b[39;49m\u001b[33;43m\"\u001b[39;49m\u001b[43m \u001b[49m\u001b[43m+\u001b[49m\u001b[43m \u001b[49m\u001b[43mmodule_name\u001b[49m\u001b[43m,\u001b[49m\u001b[43m \u001b[49m\u001b[38;5;28;43mself\u001b[39;49m\u001b[43m.\u001b[49m\u001b[34;43m__name__\u001b[39;49m\u001b[43m)\u001b[49m\n\u001b[32m   2321\u001b[39m     \u001b[38;5;28;01mexcept\u001b[39;00m \u001b[38;5;167;01mException\u001b[39;00m \u001b[38;5;28;01mas\u001b[39;00m e:\n\u001b[32m   2322\u001b[39m         \u001b[38;5;28;01mraise\u001b[39;00m e\n",
      "\u001b[36mFile \u001b[39m\u001b[32mc:\\Users\\manis\\anaconda3\\envs\\pytorch\\Lib\\importlib\\__init__.py:88\u001b[39m, in \u001b[36mimport_module\u001b[39m\u001b[34m(name, package)\u001b[39m\n\u001b[32m     86\u001b[39m             \u001b[38;5;28;01mbreak\u001b[39;00m\n\u001b[32m     87\u001b[39m         level += \u001b[32m1\u001b[39m\n\u001b[32m---> \u001b[39m\u001b[32m88\u001b[39m \u001b[38;5;28;01mreturn\u001b[39;00m \u001b[43m_bootstrap\u001b[49m\u001b[43m.\u001b[49m\u001b[43m_gcd_import\u001b[49m\u001b[43m(\u001b[49m\u001b[43mname\u001b[49m\u001b[43m[\u001b[49m\u001b[43mlevel\u001b[49m\u001b[43m:\u001b[49m\u001b[43m]\u001b[49m\u001b[43m,\u001b[49m\u001b[43m \u001b[49m\u001b[43mpackage\u001b[49m\u001b[43m,\u001b[49m\u001b[43m \u001b[49m\u001b[43mlevel\u001b[49m\u001b[43m)\u001b[49m\n",
      "\u001b[36mFile \u001b[39m\u001b[32mc:\\Users\\manis\\anaconda3\\envs\\pytorch\\Lib\\site-packages\\transformers\\models\\auto\\modeling_auto.py:23\u001b[39m\n\u001b[32m     20\u001b[39m \u001b[38;5;28;01mfrom\u001b[39;00m\u001b[38;5;250m \u001b[39m\u001b[34;01mtyping\u001b[39;00m\u001b[38;5;250m \u001b[39m\u001b[38;5;28;01mimport\u001b[39;00m TYPE_CHECKING, Union\n\u001b[32m     22\u001b[39m \u001b[38;5;28;01mfrom\u001b[39;00m\u001b[38;5;250m \u001b[39m\u001b[34;01m.\u001b[39;00m\u001b[34;01m.\u001b[39;00m\u001b[34;01m.\u001b[39;00m\u001b[34;01mutils\u001b[39;00m\u001b[38;5;250m \u001b[39m\u001b[38;5;28;01mimport\u001b[39;00m logging\n\u001b[32m---> \u001b[39m\u001b[32m23\u001b[39m \u001b[38;5;28;01mfrom\u001b[39;00m\u001b[38;5;250m \u001b[39m\u001b[34;01m.\u001b[39;00m\u001b[34;01mauto_factory\u001b[39;00m\u001b[38;5;250m \u001b[39m\u001b[38;5;28;01mimport\u001b[39;00m (\n\u001b[32m     24\u001b[39m     _BaseAutoBackboneClass,\n\u001b[32m     25\u001b[39m     _BaseAutoModelClass,\n\u001b[32m     26\u001b[39m     _LazyAutoMapping,\n\u001b[32m     27\u001b[39m     auto_class_update,\n\u001b[32m     28\u001b[39m )\n\u001b[32m     29\u001b[39m \u001b[38;5;28;01mfrom\u001b[39;00m\u001b[38;5;250m \u001b[39m\u001b[34;01m.\u001b[39;00m\u001b[34;01mconfiguration_auto\u001b[39;00m\u001b[38;5;250m \u001b[39m\u001b[38;5;28;01mimport\u001b[39;00m CONFIG_MAPPING_NAMES\n\u001b[32m     32\u001b[39m \u001b[38;5;28;01mif\u001b[39;00m TYPE_CHECKING:\n",
      "\u001b[36mFile \u001b[39m\u001b[32mc:\\Users\\manis\\anaconda3\\envs\\pytorch\\Lib\\site-packages\\transformers\\models\\auto\\auto_factory.py:43\u001b[39m\n\u001b[32m     39\u001b[39m \u001b[38;5;28;01mfrom\u001b[39;00m\u001b[38;5;250m \u001b[39m\u001b[34;01m.\u001b[39;00m\u001b[34;01mconfiguration_auto\u001b[39;00m\u001b[38;5;250m \u001b[39m\u001b[38;5;28;01mimport\u001b[39;00m AutoConfig, model_type_to_module_name, replace_list_option_in_docstrings\n\u001b[32m     42\u001b[39m \u001b[38;5;28;01mif\u001b[39;00m is_torch_available():\n\u001b[32m---> \u001b[39m\u001b[32m43\u001b[39m     \u001b[38;5;28;01mfrom\u001b[39;00m\u001b[38;5;250m \u001b[39m\u001b[34;01m.\u001b[39;00m\u001b[34;01m.\u001b[39;00m\u001b[34;01m.\u001b[39;00m\u001b[34;01mgeneration\u001b[39;00m\u001b[38;5;250m \u001b[39m\u001b[38;5;28;01mimport\u001b[39;00m GenerationMixin\n\u001b[32m     46\u001b[39m logger = logging.get_logger(\u001b[34m__name__\u001b[39m)\n\u001b[32m     48\u001b[39m _T = TypeVar(\u001b[33m\"\u001b[39m\u001b[33m_T\u001b[39m\u001b[33m\"\u001b[39m)\n",
      "\u001b[31mImportError\u001b[39m: cannot import name 'GenerationMixin' from 'transformers.generation' (c:\\Users\\manis\\anaconda3\\envs\\pytorch\\Lib\\site-packages\\transformers\\generation\\__init__.py)"
     ]
    }
   ],
   "source": [
    "from sentence_transformers import SentenceTransformer\n",
    "import torch\n",
    "\n",
    "model = SentenceTransformer(\"bert-base-uncased\")\n",
    "\n",
    "# Count trainable parameters\n",
    "total_params = sum(p.numel() for p in model.parameters())\n",
    "trainable_params = sum(p.numel() for p in model.parameters() if p.requires_grad)\n",
    "\n",
    "print(f\"Total parameters: {total_params:,}\")\n",
    "print(f\"Trainable parameters: {trainable_params:,}\")\n"
   ]
  },
  {
   "cell_type": "code",
   "execution_count": 3,
   "id": "6efd20cc",
   "metadata": {},
   "outputs": [
    {
     "ename": "ImportError",
     "evalue": "cannot import name 'GenerationMixin' from 'transformers.generation' (c:\\Users\\manis\\anaconda3\\envs\\pytorch\\Lib\\site-packages\\transformers\\generation\\__init__.py)",
     "output_type": "error",
     "traceback": [
      "\u001b[31m---------------------------------------------------------------------------\u001b[39m",
      "\u001b[31mImportError\u001b[39m                               Traceback (most recent call last)",
      "\u001b[36mCell\u001b[39m\u001b[36m \u001b[39m\u001b[32mIn[3]\u001b[39m\u001b[32m, line 1\u001b[39m\n\u001b[32m----> \u001b[39m\u001b[32m1\u001b[39m \u001b[38;5;28;01mfrom\u001b[39;00m\u001b[38;5;250m \u001b[39m\u001b[34;01msentence_transformers\u001b[39;00m\u001b[38;5;250m \u001b[39m\u001b[38;5;28;01mimport\u001b[39;00m SentenceTransformer\n\u001b[32m      3\u001b[39m \u001b[38;5;66;03m# model = SentenceTransformer(\"bert-base-uncased\", cache_folder=\"./model_cache\")\u001b[39;00m\n",
      "\u001b[36mFile \u001b[39m\u001b[32mc:\\Users\\manis\\anaconda3\\envs\\pytorch\\Lib\\site-packages\\sentence_transformers\\__init__.py:15\u001b[39m\n\u001b[32m      8\u001b[39m \u001b[38;5;28;01mimport\u001b[39;00m\u001b[38;5;250m \u001b[39m\u001b[34;01mwarnings\u001b[39;00m\n\u001b[32m     10\u001b[39m \u001b[38;5;28;01mfrom\u001b[39;00m\u001b[38;5;250m \u001b[39m\u001b[34;01msentence_transformers\u001b[39;00m\u001b[34;01m.\u001b[39;00m\u001b[34;01mbackend\u001b[39;00m\u001b[38;5;250m \u001b[39m\u001b[38;5;28;01mimport\u001b[39;00m (\n\u001b[32m     11\u001b[39m     export_dynamic_quantized_onnx_model,\n\u001b[32m     12\u001b[39m     export_optimized_onnx_model,\n\u001b[32m     13\u001b[39m     export_static_quantized_openvino_model,\n\u001b[32m     14\u001b[39m )\n\u001b[32m---> \u001b[39m\u001b[32m15\u001b[39m \u001b[38;5;28;01mfrom\u001b[39;00m\u001b[38;5;250m \u001b[39m\u001b[34;01msentence_transformers\u001b[39;00m\u001b[34;01m.\u001b[39;00m\u001b[34;01mcross_encoder\u001b[39;00m\u001b[38;5;250m \u001b[39m\u001b[38;5;28;01mimport\u001b[39;00m (\n\u001b[32m     16\u001b[39m     CrossEncoder,\n\u001b[32m     17\u001b[39m     CrossEncoderModelCardData,\n\u001b[32m     18\u001b[39m     CrossEncoderTrainer,\n\u001b[32m     19\u001b[39m     CrossEncoderTrainingArguments,\n\u001b[32m     20\u001b[39m )\n\u001b[32m     21\u001b[39m \u001b[38;5;28;01mfrom\u001b[39;00m\u001b[38;5;250m \u001b[39m\u001b[34;01msentence_transformers\u001b[39;00m\u001b[34;01m.\u001b[39;00m\u001b[34;01mdatasets\u001b[39;00m\u001b[38;5;250m \u001b[39m\u001b[38;5;28;01mimport\u001b[39;00m ParallelSentencesDataset, SentencesDataset\n\u001b[32m     22\u001b[39m \u001b[38;5;28;01mfrom\u001b[39;00m\u001b[38;5;250m \u001b[39m\u001b[34;01msentence_transformers\u001b[39;00m\u001b[34;01m.\u001b[39;00m\u001b[34;01mLoggingHandler\u001b[39;00m\u001b[38;5;250m \u001b[39m\u001b[38;5;28;01mimport\u001b[39;00m LoggingHandler\n",
      "\u001b[36mFile \u001b[39m\u001b[32mc:\\Users\\manis\\anaconda3\\envs\\pytorch\\Lib\\site-packages\\sentence_transformers\\cross_encoder\\__init__.py:3\u001b[39m\n\u001b[32m      1\u001b[39m \u001b[38;5;28;01mfrom\u001b[39;00m\u001b[38;5;250m \u001b[39m\u001b[34;01m__future__\u001b[39;00m\u001b[38;5;250m \u001b[39m\u001b[38;5;28;01mimport\u001b[39;00m annotations\n\u001b[32m----> \u001b[39m\u001b[32m3\u001b[39m \u001b[38;5;28;01mfrom\u001b[39;00m\u001b[38;5;250m \u001b[39m\u001b[34;01m.\u001b[39;00m\u001b[34;01mCrossEncoder\u001b[39;00m\u001b[38;5;250m \u001b[39m\u001b[38;5;28;01mimport\u001b[39;00m CrossEncoder\n\u001b[32m      4\u001b[39m \u001b[38;5;28;01mfrom\u001b[39;00m\u001b[38;5;250m \u001b[39m\u001b[34;01m.\u001b[39;00m\u001b[34;01mmodel_card\u001b[39;00m\u001b[38;5;250m \u001b[39m\u001b[38;5;28;01mimport\u001b[39;00m CrossEncoderModelCardData\n\u001b[32m      5\u001b[39m \u001b[38;5;28;01mfrom\u001b[39;00m\u001b[38;5;250m \u001b[39m\u001b[34;01m.\u001b[39;00m\u001b[34;01mtrainer\u001b[39;00m\u001b[38;5;250m \u001b[39m\u001b[38;5;28;01mimport\u001b[39;00m CrossEncoderTrainer\n",
      "\u001b[36mFile \u001b[39m\u001b[32mc:\\Users\\manis\\anaconda3\\envs\\pytorch\\Lib\\site-packages\\sentence_transformers\\cross_encoder\\CrossEncoder.py:16\u001b[39m\n\u001b[32m     14\u001b[39m \u001b[38;5;28;01mfrom\u001b[39;00m\u001b[38;5;250m \u001b[39m\u001b[34;01mtorch\u001b[39;00m\u001b[38;5;250m \u001b[39m\u001b[38;5;28;01mimport\u001b[39;00m nn\n\u001b[32m     15\u001b[39m \u001b[38;5;28;01mfrom\u001b[39;00m\u001b[38;5;250m \u001b[39m\u001b[34;01mtqdm\u001b[39;00m\u001b[34;01m.\u001b[39;00m\u001b[34;01mautonotebook\u001b[39;00m\u001b[38;5;250m \u001b[39m\u001b[38;5;28;01mimport\u001b[39;00m trange\n\u001b[32m---> \u001b[39m\u001b[32m16\u001b[39m \u001b[38;5;28;01mfrom\u001b[39;00m\u001b[38;5;250m \u001b[39m\u001b[34;01mtransformers\u001b[39;00m\u001b[38;5;250m \u001b[39m\u001b[38;5;28;01mimport\u001b[39;00m (\n\u001b[32m     17\u001b[39m     AutoConfig,\n\u001b[32m     18\u001b[39m     AutoModelForSequenceClassification,\n\u001b[32m     19\u001b[39m     AutoTokenizer,\n\u001b[32m     20\u001b[39m     PretrainedConfig,\n\u001b[32m     21\u001b[39m     PreTrainedModel,\n\u001b[32m     22\u001b[39m     PreTrainedTokenizer,\n\u001b[32m     23\u001b[39m )\n\u001b[32m     24\u001b[39m \u001b[38;5;28;01mfrom\u001b[39;00m\u001b[38;5;250m \u001b[39m\u001b[34;01mtransformers\u001b[39;00m\u001b[34;01m.\u001b[39;00m\u001b[34;01mutils\u001b[39;00m\u001b[38;5;250m \u001b[39m\u001b[38;5;28;01mimport\u001b[39;00m PushToHubMixin\n\u001b[32m     25\u001b[39m \u001b[38;5;28;01mfrom\u001b[39;00m\u001b[38;5;250m \u001b[39m\u001b[34;01mtyping_extensions\u001b[39;00m\u001b[38;5;250m \u001b[39m\u001b[38;5;28;01mimport\u001b[39;00m deprecated\n",
      "\u001b[36mFile \u001b[39m\u001b[32mc:\\Users\\manis\\anaconda3\\envs\\pytorch\\Lib\\site-packages\\transformers\\utils\\import_utils.py:2292\u001b[39m, in \u001b[36m_LazyModule.__getattr__\u001b[39m\u001b[34m(self, name)\u001b[39m\n\u001b[32m   2290\u001b[39m \u001b[38;5;28;01melif\u001b[39;00m name \u001b[38;5;129;01min\u001b[39;00m \u001b[38;5;28mself\u001b[39m._class_to_module:\n\u001b[32m   2291\u001b[39m     \u001b[38;5;28;01mtry\u001b[39;00m:\n\u001b[32m-> \u001b[39m\u001b[32m2292\u001b[39m         module = \u001b[38;5;28;43mself\u001b[39;49m\u001b[43m.\u001b[49m\u001b[43m_get_module\u001b[49m\u001b[43m(\u001b[49m\u001b[38;5;28;43mself\u001b[39;49m\u001b[43m.\u001b[49m\u001b[43m_class_to_module\u001b[49m\u001b[43m[\u001b[49m\u001b[43mname\u001b[49m\u001b[43m]\u001b[49m\u001b[43m)\u001b[49m\n\u001b[32m   2293\u001b[39m         value = \u001b[38;5;28mgetattr\u001b[39m(module, name)\n\u001b[32m   2294\u001b[39m     \u001b[38;5;28;01mexcept\u001b[39;00m (\u001b[38;5;167;01mModuleNotFoundError\u001b[39;00m, \u001b[38;5;167;01mRuntimeError\u001b[39;00m) \u001b[38;5;28;01mas\u001b[39;00m e:\n",
      "\u001b[36mFile \u001b[39m\u001b[32mc:\\Users\\manis\\anaconda3\\envs\\pytorch\\Lib\\site-packages\\transformers\\utils\\import_utils.py:2322\u001b[39m, in \u001b[36m_LazyModule._get_module\u001b[39m\u001b[34m(self, module_name)\u001b[39m\n\u001b[32m   2320\u001b[39m     \u001b[38;5;28;01mreturn\u001b[39;00m importlib.import_module(\u001b[33m\"\u001b[39m\u001b[33m.\u001b[39m\u001b[33m\"\u001b[39m + module_name, \u001b[38;5;28mself\u001b[39m.\u001b[34m__name__\u001b[39m)\n\u001b[32m   2321\u001b[39m \u001b[38;5;28;01mexcept\u001b[39;00m \u001b[38;5;167;01mException\u001b[39;00m \u001b[38;5;28;01mas\u001b[39;00m e:\n\u001b[32m-> \u001b[39m\u001b[32m2322\u001b[39m     \u001b[38;5;28;01mraise\u001b[39;00m e\n",
      "\u001b[36mFile \u001b[39m\u001b[32mc:\\Users\\manis\\anaconda3\\envs\\pytorch\\Lib\\site-packages\\transformers\\utils\\import_utils.py:2320\u001b[39m, in \u001b[36m_LazyModule._get_module\u001b[39m\u001b[34m(self, module_name)\u001b[39m\n\u001b[32m   2318\u001b[39m \u001b[38;5;28;01mdef\u001b[39;00m\u001b[38;5;250m \u001b[39m\u001b[34m_get_module\u001b[39m(\u001b[38;5;28mself\u001b[39m, module_name: \u001b[38;5;28mstr\u001b[39m):\n\u001b[32m   2319\u001b[39m     \u001b[38;5;28;01mtry\u001b[39;00m:\n\u001b[32m-> \u001b[39m\u001b[32m2320\u001b[39m         \u001b[38;5;28;01mreturn\u001b[39;00m \u001b[43mimportlib\u001b[49m\u001b[43m.\u001b[49m\u001b[43mimport_module\u001b[49m\u001b[43m(\u001b[49m\u001b[33;43m\"\u001b[39;49m\u001b[33;43m.\u001b[39;49m\u001b[33;43m\"\u001b[39;49m\u001b[43m \u001b[49m\u001b[43m+\u001b[49m\u001b[43m \u001b[49m\u001b[43mmodule_name\u001b[49m\u001b[43m,\u001b[49m\u001b[43m \u001b[49m\u001b[38;5;28;43mself\u001b[39;49m\u001b[43m.\u001b[49m\u001b[34;43m__name__\u001b[39;49m\u001b[43m)\u001b[49m\n\u001b[32m   2321\u001b[39m     \u001b[38;5;28;01mexcept\u001b[39;00m \u001b[38;5;167;01mException\u001b[39;00m \u001b[38;5;28;01mas\u001b[39;00m e:\n\u001b[32m   2322\u001b[39m         \u001b[38;5;28;01mraise\u001b[39;00m e\n",
      "\u001b[36mFile \u001b[39m\u001b[32mc:\\Users\\manis\\anaconda3\\envs\\pytorch\\Lib\\importlib\\__init__.py:88\u001b[39m, in \u001b[36mimport_module\u001b[39m\u001b[34m(name, package)\u001b[39m\n\u001b[32m     86\u001b[39m             \u001b[38;5;28;01mbreak\u001b[39;00m\n\u001b[32m     87\u001b[39m         level += \u001b[32m1\u001b[39m\n\u001b[32m---> \u001b[39m\u001b[32m88\u001b[39m \u001b[38;5;28;01mreturn\u001b[39;00m \u001b[43m_bootstrap\u001b[49m\u001b[43m.\u001b[49m\u001b[43m_gcd_import\u001b[49m\u001b[43m(\u001b[49m\u001b[43mname\u001b[49m\u001b[43m[\u001b[49m\u001b[43mlevel\u001b[49m\u001b[43m:\u001b[49m\u001b[43m]\u001b[49m\u001b[43m,\u001b[49m\u001b[43m \u001b[49m\u001b[43mpackage\u001b[49m\u001b[43m,\u001b[49m\u001b[43m \u001b[49m\u001b[43mlevel\u001b[49m\u001b[43m)\u001b[49m\n",
      "\u001b[36mFile \u001b[39m\u001b[32mc:\\Users\\manis\\anaconda3\\envs\\pytorch\\Lib\\site-packages\\transformers\\models\\auto\\modeling_auto.py:23\u001b[39m\n\u001b[32m     20\u001b[39m \u001b[38;5;28;01mfrom\u001b[39;00m\u001b[38;5;250m \u001b[39m\u001b[34;01mtyping\u001b[39;00m\u001b[38;5;250m \u001b[39m\u001b[38;5;28;01mimport\u001b[39;00m TYPE_CHECKING, Union\n\u001b[32m     22\u001b[39m \u001b[38;5;28;01mfrom\u001b[39;00m\u001b[38;5;250m \u001b[39m\u001b[34;01m.\u001b[39;00m\u001b[34;01m.\u001b[39;00m\u001b[34;01m.\u001b[39;00m\u001b[34;01mutils\u001b[39;00m\u001b[38;5;250m \u001b[39m\u001b[38;5;28;01mimport\u001b[39;00m logging\n\u001b[32m---> \u001b[39m\u001b[32m23\u001b[39m \u001b[38;5;28;01mfrom\u001b[39;00m\u001b[38;5;250m \u001b[39m\u001b[34;01m.\u001b[39;00m\u001b[34;01mauto_factory\u001b[39;00m\u001b[38;5;250m \u001b[39m\u001b[38;5;28;01mimport\u001b[39;00m (\n\u001b[32m     24\u001b[39m     _BaseAutoBackboneClass,\n\u001b[32m     25\u001b[39m     _BaseAutoModelClass,\n\u001b[32m     26\u001b[39m     _LazyAutoMapping,\n\u001b[32m     27\u001b[39m     auto_class_update,\n\u001b[32m     28\u001b[39m )\n\u001b[32m     29\u001b[39m \u001b[38;5;28;01mfrom\u001b[39;00m\u001b[38;5;250m \u001b[39m\u001b[34;01m.\u001b[39;00m\u001b[34;01mconfiguration_auto\u001b[39;00m\u001b[38;5;250m \u001b[39m\u001b[38;5;28;01mimport\u001b[39;00m CONFIG_MAPPING_NAMES\n\u001b[32m     32\u001b[39m \u001b[38;5;28;01mif\u001b[39;00m TYPE_CHECKING:\n",
      "\u001b[36mFile \u001b[39m\u001b[32mc:\\Users\\manis\\anaconda3\\envs\\pytorch\\Lib\\site-packages\\transformers\\models\\auto\\auto_factory.py:43\u001b[39m\n\u001b[32m     39\u001b[39m \u001b[38;5;28;01mfrom\u001b[39;00m\u001b[38;5;250m \u001b[39m\u001b[34;01m.\u001b[39;00m\u001b[34;01mconfiguration_auto\u001b[39;00m\u001b[38;5;250m \u001b[39m\u001b[38;5;28;01mimport\u001b[39;00m AutoConfig, model_type_to_module_name, replace_list_option_in_docstrings\n\u001b[32m     42\u001b[39m \u001b[38;5;28;01mif\u001b[39;00m is_torch_available():\n\u001b[32m---> \u001b[39m\u001b[32m43\u001b[39m     \u001b[38;5;28;01mfrom\u001b[39;00m\u001b[38;5;250m \u001b[39m\u001b[34;01m.\u001b[39;00m\u001b[34;01m.\u001b[39;00m\u001b[34;01m.\u001b[39;00m\u001b[34;01mgeneration\u001b[39;00m\u001b[38;5;250m \u001b[39m\u001b[38;5;28;01mimport\u001b[39;00m GenerationMixin\n\u001b[32m     46\u001b[39m logger = logging.get_logger(\u001b[34m__name__\u001b[39m)\n\u001b[32m     48\u001b[39m _T = TypeVar(\u001b[33m\"\u001b[39m\u001b[33m_T\u001b[39m\u001b[33m\"\u001b[39m)\n",
      "\u001b[31mImportError\u001b[39m: cannot import name 'GenerationMixin' from 'transformers.generation' (c:\\Users\\manis\\anaconda3\\envs\\pytorch\\Lib\\site-packages\\transformers\\generation\\__init__.py)"
     ]
    }
   ],
   "source": [
    "from sentence_transformers import SentenceTransformer\n",
    "\n",
    "# model = SentenceTransformer(\"bert-base-uncased\", cache_folder=\"./model_cache\")"
   ]
  },
  {
   "cell_type": "code",
   "execution_count": 9,
   "id": "a07e8815",
   "metadata": {},
   "outputs": [
    {
     "name": "stderr",
     "output_type": "stream",
     "text": [
      "No sentence-transformers model found with name bert-base-uncased. Creating a new one with mean pooling.\n"
     ]
    },
    {
     "name": "stdout",
     "output_type": "stream",
     "text": [
      "BertModel(\n",
      "  (embeddings): BertEmbeddings(\n",
      "    (word_embeddings): Embedding(30522, 768, padding_idx=0)\n",
      "    (position_embeddings): Embedding(512, 768)\n",
      "    (token_type_embeddings): Embedding(2, 768)\n",
      "    (LayerNorm): LayerNorm((768,), eps=1e-12, elementwise_affine=True)\n",
      "    (dropout): Dropout(p=0.1, inplace=False)\n",
      "  )\n",
      "  (encoder): BertEncoder(\n",
      "    (layer): ModuleList(\n",
      "      (0-11): 12 x BertLayer(\n",
      "        (attention): BertAttention(\n",
      "          (self): BertSdpaSelfAttention(\n",
      "            (query): Linear(in_features=768, out_features=768, bias=True)\n",
      "            (key): Linear(in_features=768, out_features=768, bias=True)\n",
      "            (value): Linear(in_features=768, out_features=768, bias=True)\n",
      "            (dropout): Dropout(p=0.1, inplace=False)\n",
      "          )\n",
      "          (output): BertSelfOutput(\n",
      "            (dense): Linear(in_features=768, out_features=768, bias=True)\n",
      "            (LayerNorm): LayerNorm((768,), eps=1e-12, elementwise_affine=True)\n",
      "            (dropout): Dropout(p=0.1, inplace=False)\n",
      "          )\n",
      "        )\n",
      "        (intermediate): BertIntermediate(\n",
      "          (dense): Linear(in_features=768, out_features=3072, bias=True)\n",
      "          (intermediate_act_fn): GELUActivation()\n",
      "        )\n",
      "        (output): BertOutput(\n",
      "          (dense): Linear(in_features=3072, out_features=768, bias=True)\n",
      "          (LayerNorm): LayerNorm((768,), eps=1e-12, elementwise_affine=True)\n",
      "          (dropout): Dropout(p=0.1, inplace=False)\n",
      "        )\n",
      "      )\n",
      "    )\n",
      "  )\n",
      "  (pooler): BertPooler(\n",
      "    (dense): Linear(in_features=768, out_features=768, bias=True)\n",
      "    (activation): Tanh()\n",
      "  )\n",
      ")\n"
     ]
    }
   ],
   "source": [
    "from sentence_transformers import SentenceTransformer\n",
    "\n",
    "model = SentenceTransformer(\"bert-base-uncased\")\n",
    "print(model[0].auto_model)\n"
   ]
  },
  {
   "cell_type": "code",
   "execution_count": 10,
   "id": "9dcdb344",
   "metadata": {},
   "outputs": [],
   "source": [
    "emb = model.encode([\"[I wanna kiss you all over! Stunning!](http://www.oilflush.life/2017/01/26/6/) \"], convert_to_tensor=True, normalize_embeddings=True)\n",
    "emb1 = model.encode(['#Rapper 🚨Straight Outta Cross Keys SC 🚨YouTube Search Beanie 864 Click Link BELOW To Hear Hit Single \"Ah Man\" Beanie 864 FEAT King Kota (King Kota Is Only 15!) Lit 🌡🔥👍💵💯Fr Fr https://youtu.be/tLqbV1Jmt5Y '], convert_to_tensor=True, normalize_embeddings=True)\n",
    "emb3 = model.encode([\" No Advertising: Spam, referral links, unsolicited advertising, and promotional content are not allowed. SUBREDDIT soccerstreams\"], convert_to_tensor=True, normalize_embeddings=True)"
   ]
  },
  {
   "cell_type": "code",
   "execution_count": 11,
   "id": "84777862",
   "metadata": {},
   "outputs": [
    {
     "name": "stdout",
     "output_type": "stream",
     "text": [
      "0\n",
      "Dot(emb, emb1): 0.8720, Cosine: 0.8720, Distance: 0.5061\n",
      "Dot(emb, emb2): 0.7622, Cosine: 0.7622, Distance: 0.6896\n",
      "----------\n",
      "0\n",
      "Dot(emb, emb1): 0.9287, Cosine: 0.9287, Distance: 0.3775\n",
      "Dot(emb, emb2): 0.8627, Cosine: 0.8627, Distance: 0.5241\n",
      "----------\n",
      "1\n",
      "Dot(emb, emb1): 0.8487, Cosine: 0.8487, Distance: 0.5500\n",
      "Dot(emb, emb2): 0.8669, Cosine: 0.8669, Distance: 0.5159\n",
      "----------\n"
     ]
    }
   ],
   "source": [
    "import torch\n",
    "from torch.nn.functional import cosine_similarity\n",
    "for i in range(3):\n",
    "    emb = model.encode([f\"{df['subreddit'][i]} [SEP] {df['rule'][i]} [SEP] {df['body'][i]}\"], convert_to_tensor=True, normalize_embeddings=True)\n",
    "    emb1 = model.encode([f\"{df['subreddit'][i]} [SEP] {df['rule'][i]} [SEP] {df['positive_example_1'][i]}\"], convert_to_tensor=True, normalize_embeddings=True)\n",
    "    emb2 = model.encode([f\"{df['subreddit'][i]} [SEP] {df['rule'][i]} [SEP] {df['negative_example_1'][i]}\"], convert_to_tensor=True, normalize_embeddings=True)\n",
    "    dot_01 = torch.matmul(emb, emb1.T)\n",
    "    cos_01 = cosine_similarity(emb, emb1).item()\n",
    "    dist_01 = torch.norm(emb - emb1).item()\n",
    "    dot_02 = torch.matmul(emb, emb2.T)\n",
    "    cos_02 = cosine_similarity(emb, emb2).item()\n",
    "    dist_02 = torch.norm(emb - emb2).item()\n",
    "    print(df[\"rule_violation\"][i])\n",
    "    print(f\"Dot(emb, emb1): {dot_01.item():.4f}, Cosine: {cos_01:.4f}, Distance: {dist_01:.4f}\")\n",
    "    print(f\"Dot(emb, emb2): {dot_02.item():.4f}, Cosine: {cos_02:.4f}, Distance: {dist_02:.4f}\")\n",
    "    print(\"-\"*10)"
   ]
  },
  {
   "cell_type": "code",
   "execution_count": 8,
   "id": "808ba70a",
   "metadata": {},
   "outputs": [
    {
     "name": "stdout",
     "output_type": "stream",
     "text": [
      "2029\n"
     ]
    }
   ],
   "source": [
    "print(len(df[\"body\"]))"
   ]
  },
  {
   "cell_type": "code",
   "execution_count": 9,
   "id": "8afd60d2",
   "metadata": {},
   "outputs": [
    {
     "data": {
      "application/vnd.microsoft.datawrangler.viewer.v0+json": {
       "columns": [
        {
         "name": "('subreddit', 'rule')",
         "rawType": "object",
         "type": "unknown"
        },
        {
         "name": "count",
         "rawType": "int64",
         "type": "integer"
        }
       ],
       "ref": "fe44477f-daac-4e43-9a65-80e988f66780",
       "rows": [
        [
         "('legaladvice', 'No legal advice: Do not offer or request legal advice.')",
         "210"
        ],
        [
         "('soccerstreams', 'No Advertising: Spam, referral links, unsolicited advertising, and promotional content are not allowed.')",
         "138"
        ],
        [
         "('AskReddit', 'No Advertising: Spam, referral links, unsolicited advertising, and promotional content are not allowed.')",
         "119"
        ],
        [
         "('relationships', 'No legal advice: Do not offer or request legal advice.')",
         "105"
        ],
        [
         "('personalfinance', 'No legal advice: Do not offer or request legal advice.')",
         "102"
        ],
        [
         "('TwoXChromosomes', 'No legal advice: Do not offer or request legal advice.')",
         "81"
        ],
        [
         "('The_Donald', 'No legal advice: Do not offer or request legal advice.')",
         "73"
        ],
        [
         "('movies', 'No Advertising: Spam, referral links, unsolicited advertising, and promotional content are not allowed.')",
         "53"
        ],
        [
         "('news', 'No legal advice: Do not offer or request legal advice.')",
         "49"
        ],
        [
         "('videos', 'No Advertising: Spam, referral links, unsolicited advertising, and promotional content are not allowed.')",
         "46"
        ],
        [
         "('politics', 'No legal advice: Do not offer or request legal advice.')",
         "43"
        ],
        [
         "('AskReddit', 'No legal advice: Do not offer or request legal advice.')",
         "33"
        ],
        [
         "('sex', 'No Advertising: Spam, referral links, unsolicited advertising, and promotional content are not allowed.')",
         "29"
        ],
        [
         "('Showerthoughts', 'No Advertising: Spam, referral links, unsolicited advertising, and promotional content are not allowed.')",
         "28"
        ],
        [
         "('pics', 'No Advertising: Spam, referral links, unsolicited advertising, and promotional content are not allowed.')",
         "28"
        ],
        [
         "('science', 'No legal advice: Do not offer or request legal advice.')",
         "27"
        ],
        [
         "('worldnews', 'No Advertising: Spam, referral links, unsolicited advertising, and promotional content are not allowed.')",
         "26"
        ],
        [
         "('pokemongo', 'No Advertising: Spam, referral links, unsolicited advertising, and promotional content are not allowed.')",
         "24"
        ],
        [
         "('personalfinance', 'No Advertising: Spam, referral links, unsolicited advertising, and promotional content are not allowed.')",
         "23"
        ],
        [
         "('worldnews', 'No legal advice: Do not offer or request legal advice.')",
         "23"
        ],
        [
         "('GlobalOffensiveTrade', 'No Advertising: Spam, referral links, unsolicited advertising, and promotional content are not allowed.')",
         "22"
        ],
        [
         "('hearthstone', 'No Advertising: Spam, referral links, unsolicited advertising, and promotional content are not allowed.')",
         "22"
        ],
        [
         "('pokemon', 'No Advertising: Spam, referral links, unsolicited advertising, and promotional content are not allowed.')",
         "21"
        ],
        [
         "('churning', 'No Advertising: Spam, referral links, unsolicited advertising, and promotional content are not allowed.')",
         "21"
        ],
        [
         "('hillaryclinton', 'No legal advice: Do not offer or request legal advice.')",
         "21"
        ],
        [
         "('The_Donald', 'No Advertising: Spam, referral links, unsolicited advertising, and promotional content are not allowed.')",
         "21"
        ],
        [
         "('gifs', 'No Advertising: Spam, referral links, unsolicited advertising, and promotional content are not allowed.')",
         "20"
        ],
        [
         "('funny', 'No Advertising: Spam, referral links, unsolicited advertising, and promotional content are not allowed.')",
         "18"
        ],
        [
         "('aww', 'No Advertising: Spam, referral links, unsolicited advertising, and promotional content are not allowed.')",
         "17"
        ],
        [
         "('gonewild', 'No Advertising: Spam, referral links, unsolicited advertising, and promotional content are not allowed.')",
         "16"
        ],
        [
         "('news', 'No Advertising: Spam, referral links, unsolicited advertising, and promotional content are not allowed.')",
         "16"
        ],
        [
         "('GlobalOffensive', 'No Advertising: Spam, referral links, unsolicited advertising, and promotional content are not allowed.')",
         "16"
        ],
        [
         "('gaming', 'No Advertising: Spam, referral links, unsolicited advertising, and promotional content are not allowed.')",
         "14"
        ],
        [
         "('sex', 'No legal advice: Do not offer or request legal advice.')",
         "13"
        ],
        [
         "('depression', 'No legal advice: Do not offer or request legal advice.')",
         "13"
        ],
        [
         "('leagueoflegends', 'No Advertising: Spam, referral links, unsolicited advertising, and promotional content are not allowed.')",
         "13"
        ],
        [
         "('NSFW_GIF', 'No Advertising: Spam, referral links, unsolicited advertising, and promotional content are not allowed.')",
         "12"
        ],
        [
         "('jailbreak', 'No Advertising: Spam, referral links, unsolicited advertising, and promotional content are not allowed.')",
         "12"
        ],
        [
         "('explainlikeimfive', 'No legal advice: Do not offer or request legal advice.')",
         "11"
        ],
        [
         "('Overwatch', 'No Advertising: Spam, referral links, unsolicited advertising, and promotional content are not allowed.')",
         "11"
        ],
        [
         "('pcmasterrace', 'No Advertising: Spam, referral links, unsolicited advertising, and promotional content are not allowed.')",
         "11"
        ],
        [
         "('canada', 'No legal advice: Do not offer or request legal advice.')",
         "10"
        ],
        [
         "('OldSchoolCool', 'No Advertising: Spam, referral links, unsolicited advertising, and promotional content are not allowed.')",
         "10"
        ],
        [
         "('dataisbeautiful', 'No Advertising: Spam, referral links, unsolicited advertising, and promotional content are not allowed.')",
         "10"
        ],
        [
         "('books', 'No Advertising: Spam, referral links, unsolicited advertising, and promotional content are not allowed.')",
         "9"
        ],
        [
         "('EnoughTrumpSpam', 'No legal advice: Do not offer or request legal advice.')",
         "9"
        ],
        [
         "('CFB', 'No legal advice: Do not offer or request legal advice.')",
         "8"
        ],
        [
         "('LifeProTips', 'No legal advice: Do not offer or request legal advice.')",
         "8"
        ],
        [
         "('whatisthisthing', 'No legal advice: Do not offer or request legal advice.')",
         "8"
        ],
        [
         "('creepyPMs', 'No legal advice: Do not offer or request legal advice.')",
         "8"
        ]
       ],
       "shape": {
        "columns": 1,
        "rows": 176
       }
      },
      "text/plain": [
       "subreddit        rule                                                                                                   \n",
       "legaladvice      No legal advice: Do not offer or request legal advice.                                                     210\n",
       "soccerstreams    No Advertising: Spam, referral links, unsolicited advertising, and promotional content are not allowed.    138\n",
       "AskReddit        No Advertising: Spam, referral links, unsolicited advertising, and promotional content are not allowed.    119\n",
       "relationships    No legal advice: Do not offer or request legal advice.                                                     105\n",
       "personalfinance  No legal advice: Do not offer or request legal advice.                                                     102\n",
       "                                                                                                                           ... \n",
       "relationships    No Advertising: Spam, referral links, unsolicited advertising, and promotional content are not allowed.      1\n",
       "spacex           No Advertising: Spam, referral links, unsolicited advertising, and promotional content are not allowed.      1\n",
       "socialism        No Advertising: Spam, referral links, unsolicited advertising, and promotional content are not allowed.      1\n",
       "soccerstreams    No legal advice: Do not offer or request legal advice.                                                       1\n",
       "technology       No legal advice: Do not offer or request legal advice.                                                       1\n",
       "Name: count, Length: 176, dtype: int64"
      ]
     },
     "execution_count": 9,
     "metadata": {},
     "output_type": "execute_result"
    }
   ],
   "source": [
    "df[[\"subreddit\",\"rule\"]].value_counts()"
   ]
  },
  {
   "cell_type": "code",
   "execution_count": 10,
   "id": "df75ea3d",
   "metadata": {},
   "outputs": [],
   "source": [
    "### dmodel\n",
    "\n",
    "import torch \n",
    "import torch.nn as nn   \n",
    "from sentence_transformers import SentenceTransformer\n",
    "from typing import List\n",
    "\n",
    "class TripletEncoder(nn.Module):\n",
    "    def __init__(self, model_name='bert-base-uncased', embedding_dim=768, out_dim = 256):\n",
    "        super().__init__()\n",
    "        self.encoder = SentenceTransformer(model_name)\n",
    "        self.encoder_dim = embedding_dim    \n",
    "        self.out_dim = out_dim\n",
    "        self.projection = nn.Sequential(\n",
    "            nn.Linear(self.encoder_dim, 512),\n",
    "            nn.ReLU(),\n",
    "            nn.Linear(512, 256),\n",
    "            nn.ReLU(),\n",
    "            nn.Linear(256, out_dim)\n",
    "        )\n",
    "    def forward(self,texts: List[str]):\n",
    "        with torch.no_grad():  # Prevents building graph during encoding\n",
    "            emb = self.encoder.encode(texts, convert_to_tensor=True, normalize_embeddings=False)\n",
    "        emb = emb.clone().detach().requires_grad_(True)  # Make it autograd-friendly\n",
    "        emb = self.projection(emb)\n",
    "        emb = nn.functional.normalize(emb, p=2, dim=-1)\n",
    "        return emb\n",
    "    "
   ]
  },
  {
   "cell_type": "code",
   "execution_count": 11,
   "id": "881b9e79",
   "metadata": {},
   "outputs": [
    {
     "name": "stderr",
     "output_type": "stream",
     "text": [
      "No sentence-transformers model found with name bert-base-uncased. Creating a new one with mean pooling.\n"
     ]
    },
    {
     "name": "stdout",
     "output_type": "stream",
     "text": [
      "0.8456010222434998\n"
     ]
    }
   ],
   "source": [
    "from torch.nn import TripletMarginLoss\n",
    "\n",
    "model = TripletEncoder().to('cuda')\n",
    "criterion = TripletMarginLoss(margin=1.0, p=2)\n",
    "\n",
    "# Example batch (strings)\n",
    "anchor_texts = [\"some anchor sentence\"]\n",
    "pos_texts    = [\"similar sentence\"]\n",
    "neg_texts    = [\"dissimilar sentence\"]\n",
    "\n",
    "anchor_emb = model(anchor_texts)\n",
    "pos_emb = model(pos_texts)\n",
    "neg_emb = model(neg_texts)\n",
    "\n",
    "loss = criterion(anchor_emb, pos_emb, neg_emb)\n",
    "print( loss.item() )\n",
    "loss.backward()\n"
   ]
  },
  {
   "cell_type": "code",
   "execution_count": 12,
   "id": "dbd60042",
   "metadata": {},
   "outputs": [],
   "source": [
    "import torch \n",
    "from torch.utils.data import Dataset\n",
    " \n",
    "class reddit_dataset(Dataset):\n",
    "    def __init__(self , df):\n",
    "        super().__init__()  \n",
    "        self.df = df\n",
    "    \n",
    "    def __len__(self):\n",
    "        return len(self.df)\n",
    "    \n",
    "    def __getitem__(self, idx):\n",
    "        row = self.df.iloc[idx]\n",
    "        anchor = f\"{row['subreddit']} [SEP] {row['rule']} [SEP] {row['body']}\"\n",
    "        text1 = f\"{row['subreddit']} [SEP] {row['rule']} [SEP] {row['positive_example_1']}\"\n",
    "        text2= f\"{row['subreddit']} [SEP] {row['rule']} [SEP] {row['negative_example_1']}\"\n",
    "        \n",
    "        \n",
    "        if row['rule_violation'] == 1:\n",
    "            pos = text1\n",
    "            neg = text2\n",
    "        else:\n",
    "            pos = text2\n",
    "            neg = text1\n",
    "        \n",
    "        return anchor, pos, neg\n",
    "    "
   ]
  },
  {
   "cell_type": "code",
   "execution_count": 13,
   "id": "d20bdd78",
   "metadata": {},
   "outputs": [],
   "source": [
    "from torch.utils.data import DataLoader\n",
    "\n",
    "dataset = reddit_dataset(df)\n",
    "dataloader = DataLoader(dataset, batch_size=16, shuffle=True)"
   ]
  },
  {
   "cell_type": "code",
   "execution_count": 14,
   "id": "a8fcb211",
   "metadata": {},
   "outputs": [
    {
     "data": {
      "text/plain": [
       "[('GlobalOffensive [SEP] No Advertising: Spam, referral links, unsolicited advertising, and promotional content are not allowed. [SEP] The t-shirt can be purchased on http://www.hitpoint.tv/scream-one-tap-t-shirt. Enjoy!',\n",
       "  'Showerthoughts [SEP] No Advertising: Spam, referral links, unsolicited advertising, and promotional content are not allowed. [SEP] tight hole await your big brother check it out at this point http://sh.ors.it/1rJfB',\n",
       "  \"politics [SEP] No Advertising: Spam, referral links, unsolicited advertising, and promotional content are not allowed. [SEP] If it's gonna be Hillary and Trump in November we need to have a revolution. Vote Austin Petersen!! #Petersen2016 #AP4LP #Libertarian #DumpTrump #HillaryForPrison #TaxationIsTheft austinpetersen2016.com\",\n",
       "  'AskReddit [SEP] No Advertising: Spam, referral links, unsolicited advertising, and promotional content are not allowed. [SEP] Oh that\\'s interesting. You should check out my instagram page \"dailyetymology\" for more cool etymology!',\n",
       "  'TwoXChromosomes [SEP] No legal advice: Do not offer or request legal advice. [SEP] So are men entitled to end being a parent, if they got fucked by a woman and she lied about being on the pill or something?',\n",
       "  'videos [SEP] No Advertising: Spam, referral links, unsolicited advertising, and promotional content are not allowed. [SEP] hunt for lady for jack off in neighbourhood http://url.inmusi.com/gakq',\n",
       "  'creepyPMs [SEP] No legal advice: Do not offer or request legal advice. [SEP] Girl you better dial up those police folks now..heard they might help you with stuff like this.',\n",
       "  \"legaladvice [SEP] No legal advice: Do not offer or request legal advice. [SEP] How about having charges filed against you, prove you're innpcent and the rape her?\",\n",
       "  'sex [SEP] No Advertising: Spam, referral links, unsolicited advertising, and promotional content are not allowed. [SEP] FindSexToday . com - free girls for sex worldwide 16rTAFMbhxgx30!',\n",
       "  'videos [SEP] No Advertising: Spam, referral links, unsolicited advertising, and promotional content are not allowed. [SEP] strange things with her that slut hole gonna http://augustjarpemo.se/url/vl0u',\n",
       "  \"pokemon [SEP] No Advertising: Spam, referral links, unsolicited advertising, and promotional content are not allowed. [SEP] (If this is not allowed please let me know) Yes you can, they're up on my Storenvy at hyenagimmick.storenvy.com\",\n",
       "  \"relationships [SEP] No legal advice: Do not offer or request legal advice. [SEP] Don't narc on your brother. Tell him to chill. Be a man, get his life together on the outside. But don't put him in a position where he's dinged immediately by his PO just because he wants to see his kid. Talk to your brother. Don't talk to the cops.\",\n",
       "  'personalfinance [SEP] No legal advice: Do not offer or request legal advice. [SEP] Fake your death. Print out new id and diploma and start over. Seriously, people can make diplomas for almost nothing and most employers really only care if you can do the job.',\n",
       "  'soccerstreams [SEP] No Advertising: Spam, referral links, unsolicited advertising, and promotional content are not allowed. [SEP] NAVIXSPORT * Computers : http://www.navixsport.com/sport.php?id=1916 * Mobiles / Ipads / Tablets : http://www.navixsport.com/m/sport.php?id=1916',\n",
       "  'videos [SEP] No Advertising: Spam, referral links, unsolicited advertising, and promotional content are not allowed. [SEP] check out amazing tits at this point http://zoachaehiefi1977.tumblr.com',\n",
       "  'soccerstreams [SEP] No Advertising: Spam, referral links, unsolicited advertising, and promotional content are not allowed. [SEP] SD [ English ](http://immortal-tv.net/stream8.php) MOBILE:YES'),\n",
       " ('GlobalOffensive [SEP] No Advertising: Spam, referral links, unsolicited advertising, and promotional content are not allowed. [SEP] Good story my friend. Check out my blog at http://www.ink2quill.com/',\n",
       "  'Showerthoughts [SEP] No Advertising: Spam, referral links, unsolicited advertising, and promotional content are not allowed. [SEP] Cum Swallowing Hottie Katrina Kaif Cartoon Xvideo18+ https://youtu.be/0FwHHqCPrag',\n",
       "  'politics [SEP] No Advertising: Spam, referral links, unsolicited advertising, and promotional content are not allowed. [SEP] They are interchangeable charger tips link to similar ones here http://www.dealwinwin.com/Charging-Tips-for-THF-S54-5000mAh-Solar-Battery-Charger-THF-S54-CHA-ACC/',\n",
       "  'AskReddit [SEP] No Advertising: Spam, referral links, unsolicited advertising, and promotional content are not allowed. [SEP] Oh that\\'s interesting. You should check out my instagram page \"dailyetymology\" for more interesting etymology!',\n",
       "  'TwoXChromosomes [SEP] No legal advice: Do not offer or request legal advice. [SEP] Is this 100% legal tho? Are their any copyright laws againt pirating board games lol',\n",
       "  'videos [SEP] No Advertising: Spam, referral links, unsolicited advertising, and promotional content are not allowed. [SEP] Free 5$ For Everyone! Go Website drakelounge And Use Code NICKBUNYUN',\n",
       "  \"creepyPMs [SEP] No legal advice: Do not offer or request legal advice. [SEP] Get a lawyer. If you need a MA referral, send me a PM. This is both employment law and workers' compensation. Regardless of probation, a work injury is a work injury. They cannot fire you for exercising your rights. They're going to have big problems here.\",\n",
       "  'legaladvice [SEP] No legal advice: Do not offer or request legal advice. [SEP] Steal the dogs back and put a lean on all her property. (Youll get some of it back eventualy) Then move and move on.',\n",
       "  'sex [SEP] No Advertising: Spam, referral links, unsolicited advertising, and promotional content are not allowed. [SEP] that girl let come ur house and have sex with you http://to.ht/cmprmb',\n",
       "  'videos [SEP] No Advertising: Spam, referral links, unsolicited advertising, and promotional content are not allowed. [SEP] www.freekarma.com Free reddit karma with this GLITCH! Fast before its patched!',\n",
       "  'pokemon [SEP] No Advertising: Spam, referral links, unsolicited advertising, and promotional content are not allowed. [SEP] Disguise the Sky. Only 1 album http://youtu.be/ueEiGSt8viY',\n",
       "  'relationships [SEP] No legal advice: Do not offer or request legal advice. [SEP] if he said the words \"I\\'m sorry\" that\\'s an admission of guilt- he\\'s fucked. Get a lawyer.',\n",
       "  \"personalfinance [SEP] No legal advice: Do not offer or request legal advice. [SEP] Never pay a civil demand. It's a bluff and no company will ever sue anybody over an amount as small as $500.00\",\n",
       "  \"soccerstreams [SEP] No Advertising: Spam, referral links, unsolicited advertising, and promotional content are not allowed. [SEP] Swatter: sketchyqq's steam/twitch account: http://steamcommunity.com/id/noiseygaming http://twitch.tv/noiseygaming\",\n",
       "  'videos [SEP] No Advertising: Spam, referral links, unsolicited advertising, and promotional content are not allowed. [SEP] Mobile friendly: https://m.playvids.com/v/ePmi3p_Yfdn',\n",
       "  'soccerstreams [SEP] No Advertising: Spam, referral links, unsolicited advertising, and promotional content are not allowed. [SEP] Why not this one instead? https://swagbymilo.com/products/we-shoot-back-tank-mens'),\n",
       " ('GlobalOffensive [SEP] No Advertising: Spam, referral links, unsolicited advertising, and promotional content are not allowed. [SEP] must be watch movie https://sites.google.com/site/greatescape1963xx/-the-avengers-2012-hd-movie',\n",
       "  'Showerthoughts [SEP] No Advertising: Spam, referral links, unsolicited advertising, and promotional content are not allowed. [SEP] if you would like a direct stream link with no ads: http://www.stream2watch.cc/streams/234/307',\n",
       "  'politics [SEP] No Advertising: Spam, referral links, unsolicited advertising, and promotional content are not allowed. [SEP] Selling Tyrande codes for 3€ to paypal. PM. http://imgur.com/a/IMARW',\n",
       "  \"AskReddit [SEP] No Advertising: Spam, referral links, unsolicited advertising, and promotional content are not allowed. [SEP] GO TO RACEWITHHONDA.COM TO WIN A CHANCE TO START A VERIZON INDYCAR SERIES RACE WITH A RACING LEGEND LIKE MARIO ANDRETTI! IT'S THE FASTEST SEAT IN SPOOOOOORTS!\",\n",
       "  \"TwoXChromosomes [SEP] No legal advice: Do not offer or request legal advice. [SEP] You don't get to half-ass a case just because the client is a scumbag. That's actually an ethics violation in and if itself.\",\n",
       "  'videos [SEP] No Advertising: Spam, referral links, unsolicited advertising, and promotional content are not allowed. [SEP] ###HD [Live Stream](http://howtowatchstream.com/) PC | Laptop | Android | Iphone | MAc | Windows',\n",
       "  'creepyPMs [SEP] No legal advice: Do not offer or request legal advice. [SEP] Now a days OSHA can and will shut down any and every site to do with any kind of manufacturing regardless if it actually poses a health hazard. If you want a couple days off with no repercussions call osha.',\n",
       "  \"legaladvice [SEP] No legal advice: Do not offer or request legal advice. [SEP] No, you don't have to own it. You can download a standalone version that is still based off of BF2 online since a year at least. Received quite a lot of attention as well. You don't need to really own BF2 anyway to play it since the version used after EA shut the servers down (thanks to the Gamespy debacle) is basically cracked and available on none warez BF2 fan community websites.\",\n",
       "  'sex [SEP] No Advertising: Spam, referral links, unsolicited advertising, and promotional content are not allowed. [SEP] visit[http://www.iam-active.com/category/latest-news/] for amazing news',\n",
       "  'videos [SEP] No Advertising: Spam, referral links, unsolicited advertising, and promotional content are not allowed. [SEP] Get in touch with IPW Collection for best Wedding Planner in Venice Italy.',\n",
       "  'pokemon [SEP] No Advertising: Spam, referral links, unsolicited advertising, and promotional content are not allowed. [SEP] buy my shirt because i want to buy ganja!: https://teespring.com/cat-on-a-horse1#pid=369&cid=6513&sid=front',\n",
       "  \"relationships [SEP] No legal advice: Do not offer or request legal advice. [SEP] No, you don't have to own it. You can download a standalone version that is still based off of BF2 online since a year at least. Received quite a lot of attention as well. You don't need to really own BF2 anyway to play it since the version used after EA shut the servers down (thanks to the Gamespy debacle) is basically cracked and available on none warez BF2 fan community websites.\",\n",
       "  \"personalfinance [SEP] No legal advice: Do not offer or request legal advice. [SEP] > rape has a victim. This was something that was my fault completely, a situation I put myself into. Yeah she was 23, and I was 14, but even at that age, I shouldn't have been such a dumbass. Try switching the genders. If a 14 year old girl was pressured into sex by a 23 year old man you would probably call it rape. I echo others that you need to get into therapy for your own mental health and wellbeing.\",\n",
       "  \"soccerstreams [SEP] No Advertising: Spam, referral links, unsolicited advertising, and promotional content are not allowed. [SEP] Hey, guys, just wanted to drop in and invite you to my Pokémon cards/TCG Discord server: https://discord.gg/S9SbGSe Everyone is welcome, and don't forget to bring your love for Pokémon!\",\n",
       "  'videos [SEP] No Advertising: Spam, referral links, unsolicited advertising, and promotional content are not allowed. [SEP] SD Stream: [ES Link](http://sportsntvlive.com/channel-10/) Mobile Compatibility = No',\n",
       "  'soccerstreams [SEP] No Advertising: Spam, referral links, unsolicited advertising, and promotional content are not allowed. [SEP] My pecker lay on every vaginas here you are next http://cumre.site/?id72859')]"
      ]
     },
     "execution_count": 14,
     "metadata": {},
     "output_type": "execute_result"
    }
   ],
   "source": [
    "next(iter(dataloader))"
   ]
  },
  {
   "cell_type": "code",
   "execution_count": 19,
   "id": "15e9ed89",
   "metadata": {},
   "outputs": [
    {
     "name": "stderr",
     "output_type": "stream",
     "text": [
      "No sentence-transformers model found with name bert-base-uncased. Creating a new one with mean pooling.\n"
     ]
    },
    {
     "name": "stdout",
     "output_type": "stream",
     "text": [
      "stated training...\n",
      "Epoch 1, Loss: 0.8979239224448917\n",
      "Epoch 2, Loss: 0.6645168429753912\n",
      "Epoch 3, Loss: 0.5599706908614617\n",
      "Epoch 4, Loss: 0.5152522358368701\n",
      "Epoch 5, Loss: 0.48206209555620283\n",
      "Epoch 6, Loss: 0.43473090161019423\n",
      "Epoch 7, Loss: 0.4396047693068587\n",
      "Epoch 8, Loss: 0.40175561642083596\n",
      "Epoch 9, Loss: 0.34416784627700414\n",
      "Epoch 10, Loss: 0.31960777363439247\n"
     ]
    }
   ],
   "source": [
    "from torch.nn import TripletMarginLoss\n",
    "import torch.optim as optim\n",
    "\n",
    "model = TripletEncoder().to('cuda')\n",
    "criterion = TripletMarginLoss(margin=1.0, p=2)\n",
    "optimizer = optim.Adam(model.parameters(), lr=1e-4)\n",
    "print(\"stated training...\")\n",
    "for epoch in range(10):  # Example for 1 epoch\n",
    "    model.train()\n",
    "    total_loss = 0\n",
    "    for anchor_texts, pos_texts, neg_texts in dataloader:\n",
    "        anchor_emb = model(anchor_texts)\n",
    "        pos_emb = model(pos_texts)\n",
    "        neg_emb = model(neg_texts)\n",
    "\n",
    "        loss = criterion(anchor_emb, pos_emb, neg_emb)\n",
    "        loss.backward()\n",
    "        optimizer.step()\n",
    "        optimizer.zero_grad()\n",
    "        total_loss += loss.item()\n",
    "    print(f\"Epoch {epoch + 1}, Loss: {total_loss / len(dataloader)}\")"
   ]
  },
  {
   "cell_type": "code",
   "execution_count": 20,
   "id": "3417cb6d",
   "metadata": {},
   "outputs": [],
   "source": [
    "torch.save(model.state_dict(), \"triplet_encoder_weights.pth\")"
   ]
  },
  {
   "cell_type": "code",
   "execution_count": 15,
   "id": "fe77f0f2",
   "metadata": {},
   "outputs": [
    {
     "name": "stdout",
     "output_type": "stream",
     "text": [
      "Total parameters: 110,073,088\n",
      "Trainable parameters: 110,073,088\n",
      "TripletEncoder(\n",
      "  (encoder): SentenceTransformer(\n",
      "    (0): Transformer({'max_seq_length': 512, 'do_lower_case': False, 'architecture': 'BertModel'})\n",
      "    (1): Pooling({'word_embedding_dimension': 768, 'pooling_mode_cls_token': False, 'pooling_mode_mean_tokens': True, 'pooling_mode_max_tokens': False, 'pooling_mode_mean_sqrt_len_tokens': False, 'pooling_mode_weightedmean_tokens': False, 'pooling_mode_lasttoken': False, 'include_prompt': True})\n",
      "  )\n",
      "  (projection): Sequential(\n",
      "    (0): Linear(in_features=768, out_features=512, bias=True)\n",
      "    (1): ReLU()\n",
      "    (2): Linear(in_features=512, out_features=256, bias=True)\n",
      "    (3): ReLU()\n",
      "    (4): Linear(in_features=256, out_features=256, bias=True)\n",
      "  )\n",
      ")\n"
     ]
    }
   ],
   "source": [
    "\n",
    "# Count trainable parameters\n",
    "total_params = sum(p.numel() for p in model.parameters())\n",
    "trainable_params = sum(p.numel() for p in model.parameters() if p.requires_grad)\n",
    "\n",
    "print(f\"Total parameters: {total_params:,}\")\n",
    "print(f\"Trainable parameters: {trainable_params:,}\")\n",
    "print(model)"
   ]
  },
  {
   "cell_type": "code",
   "execution_count": 16,
   "id": "54f52714",
   "metadata": {},
   "outputs": [],
   "source": [
    "import torch \n",
    "from torch.utils.data import Dataset\n",
    " \n",
    "class reddit_dataset2(Dataset):\n",
    "    def __init__(self , df):\n",
    "        super().__init__()  \n",
    "        self.df = df\n",
    "    \n",
    "    def __len__(self):\n",
    "        return len(self.df)\n",
    "    \n",
    "    def __getitem__(self, idx):\n",
    "        row = self.df.iloc[idx]\n",
    "        anchor = f\"{row['subreddit']} [SEP] {row['rule']} [SEP] {row['body']}\"\n",
    "        text1  = [f\"{row['subreddit']} [SEP] {row['rule']} [SEP] {row['positive_example_1']}\" ,f\"{row['subreddit']} [SEP] {row['rule']} [SEP] {row['positive_example_2']}\" ]\n",
    "        text2  = [f\"{row['subreddit']} [SEP] {row['rule']} [SEP] {row['negative_example_1']}\" ,f\"{row['subreddit']} [SEP] {row['rule']} [SEP] {row['negative_example_2']}\" ]\n",
    "        \n",
    "        \n",
    "        if row['rule_violation'] == 1:\n",
    "            pos = text1\n",
    "            neg = text2\n",
    "        else:\n",
    "            pos = text2\n",
    "            neg = text1\n",
    "        \n",
    "        return anchor, pos, neg\n",
    "    "
   ]
  },
  {
   "cell_type": "code",
   "execution_count": 28,
   "id": "1a44e439",
   "metadata": {},
   "outputs": [],
   "source": [
    "from torch.utils.data import DataLoader\n",
    "\n",
    "dataset = reddit_dataset2(df)\n",
    "dataloader = DataLoader(dataset, batch_size=1, shuffle=True)"
   ]
  },
  {
   "cell_type": "code",
   "execution_count": 29,
   "id": "41ab7e5c",
   "metadata": {},
   "outputs": [
    {
     "data": {
      "text/plain": [
       "[(\"relationships [SEP] No legal advice: Do not offer or request legal advice. [SEP] Wow this is FUCKED. Sue her for half of all the bills you've paid for, and get the fuck out. This lady is a selfish bitch. I almost feel like she wants to end the relationship and is trying to force you to end it because she's an avoidant asshole. I can't think of any other reason to be this audacious.\",),\n",
       " [(\"relationships [SEP] No legal advice: Do not offer or request legal advice. [SEP] I would keep it to yourself. If it comes up, pretend its new. Admitting to a fraudulent enlistment (Article 83) would be grounds for a less than honorable discharge. Depending on your CO, the punishment can vary. Try a military sub. I'm sure there will be someone on there that has been in the same situation.\",),\n",
       "  ('relationships [SEP] No legal advice: Do not offer or request legal advice. [SEP] > Police told me to pull over and PD would do their job. \"Their job will be to arrest me after I shoot this motherfucker when he gets out of his car, so they\\'d better find us fast!\" That reply might have gotten you something akin to the response time you were looking for.',)],\n",
       " [('relationships [SEP] No legal advice: Do not offer or request legal advice. [SEP] this is the most infuriating thing I\\'ve read all year. my gut tells me to say fuck it all, tie this piece of shit up in the Kentucky wilderness, shoot him in each of the kneecaps with a .22 l, pour gasoline in him and throw a match. my head tells me to make sure his name is always associated as \"the rapist John\" and tell anyone he knows what he did, oh and leak his info to all the people online that you can, Facebook too.',),\n",
       "  ('relationships [SEP] No legal advice: Do not offer or request legal advice. [SEP] Where is there a site that still works where you can jump the GPS. Is there a FAQ to do this with iPhone or Mac?',)]]"
      ]
     },
     "execution_count": 29,
     "metadata": {},
     "output_type": "execute_result"
    }
   ],
   "source": [
    "next(iter(dataloader))"
   ]
  },
  {
   "cell_type": "code",
   "execution_count": 19,
   "id": "b7caaa2f",
   "metadata": {},
   "outputs": [
    {
     "name": "stderr",
     "output_type": "stream",
     "text": [
      "No sentence-transformers model found with name bert-base-uncased. Creating a new one with mean pooling.\n"
     ]
    },
    {
     "name": "stdout",
     "output_type": "stream",
     "text": [
      "anchor_emb shape: torch.Size([1, 256]) \n",
      "flat_pos length: 2 , flat_neg length: 2 \n",
      "pos_emb shape: torch.Size([2, 256]) , neg_emb shape: torch.Size([2, 256]) \n",
      "reshaped pos_emb shape: torch.Size([1, 2, 256]) , reshaped neg_emb shape: torch.Size([1, 2, 256]) \n",
      "expanded a shape: torch.Size([1, 1, 1, 256]) , expanded p shape: torch.Size([1, 2, 1, 256]) , expanded n shape: torch.Size([1, 1, 2, 256]) \n",
      "broadcasted a shape: torch.Size([1, 2, 2, 256]) , broadcasted p shape: torch.Size([1, 2, 2, 256]) , broadcasted n shape: torch.Size([1, 2, 2, 256]) \n",
      "collapsed a shape: torch.Size([4, 256]) , collapsed p shape: torch.Size([4, 256]) , collapsed n shape: torch.Size([4, 256]) \n",
      "Epoch 1, Loss: 0.0000\n"
     ]
    }
   ],
   "source": [
    "from torch.nn import TripletMarginLoss\n",
    "import torch.optim as optim\n",
    "\n",
    "train_dataset = reddit_dataset2(df)\n",
    "train_loader = DataLoader(train_dataset, batch_size=1, shuffle=True)\n",
    "\n",
    "model = TripletEncoder().to('cuda')\n",
    "criterion = TripletMarginLoss(margin=1.0, p=2)\n",
    "optimizer = optim.Adam(model.parameters(), lr=2e-5)\n",
    "\n",
    "for epoch in range(3):\n",
    "    model.train()\n",
    "    total_loss = 0\n",
    "    for anchors, positives, negatives in train_loader:\n",
    "        optimizer.zero_grad()\n",
    "\n",
    "        # encode anchors\n",
    "        anchor_emb = model(list(anchors))  # (B, D)\n",
    "        print(f\"anchor_emb shape: {anchor_emb.shape} \")\n",
    "        # flatten positives/negatives\n",
    "        flat_pos = [p for plist in positives for p in plist]\n",
    "        flat_neg = [n for nlist in negatives for n in nlist]\n",
    "        print(f\"flat_pos length: {len(flat_pos)} , flat_neg length: {len(flat_neg)} \")\n",
    "        \n",
    "        pos_emb = model(flat_pos)  # (B*2, D)\n",
    "        neg_emb = model(flat_neg)  # (B*2, D)\n",
    "        print(f\"pos_emb shape: {pos_emb.shape} , neg_emb shape: {neg_emb.shape} \")  \n",
    "        # reshape back into (B, num_pos, D)\n",
    "        \n",
    "        pos_emb = pos_emb.view(len(anchors), -1, pos_emb.size(-1))\n",
    "        neg_emb = neg_emb.view(len(anchors), -1, neg_emb.size(-1))\n",
    "        print(f\"reshaped pos_emb shape: {pos_emb.shape} , reshaped neg_emb shape: {neg_emb.shape} \")\n",
    "        # expand anchors to match (B, num_pos, num_neg, D)\n",
    "        a = anchor_emb.unsqueeze(1).unsqueeze(2)        # (B, 1, 1, D)\n",
    "        p = pos_emb.unsqueeze(2)                        # (B, num_pos, 1, D)\n",
    "        n = neg_emb.unsqueeze(1)                        # (B, 1, num_neg, D)\n",
    "        print(f\"expanded a shape: {a.shape} , expanded p shape: {p.shape} , expanded n shape: {n.shape} \")\n",
    "        # broadcast: (B, num_pos, num_neg, D)\n",
    "        a = a.expand(-1, p.size(1), n.size(2), -1)\n",
    "        p = p.expand(-1, p.size(1), n.size(2), -1)\n",
    "        n = n.expand(-1, p.size(1), n.size(2), -1)\n",
    "        print(f\"broadcasted a shape: {a.shape} , broadcasted p shape: {p.shape} , broadcasted n shape: {n.shape} \")\n",
    "        # collapse triplets into batch dimension\n",
    "        a = a.reshape(-1, a.size(-1))\n",
    "        p = p.reshape(-1, p.size(-1))\n",
    "        n = n.reshape(-1, n.size(-1))\n",
    "        print(f\"collapsed a shape: {a.shape} , collapsed p shape: {p.shape} , collapsed n shape: {n.shape} \")\n",
    "        # compute triplet loss in one go\n",
    "        loss = criterion(a, p, n)\n",
    "        # loss.backward()\n",
    "        # optimizer.step()\n",
    "        \n",
    "        break\n",
    "        # total_loss += loss.item()\n",
    "\n",
    "    print(f\"Epoch {epoch+1}, Loss: {total_loss/len(train_loader):.4f}\")\n",
    "    break\n"
   ]
  },
  {
   "cell_type": "code",
   "execution_count": null,
   "id": "1453620b",
   "metadata": {},
   "outputs": [
    {
     "name": "stderr",
     "output_type": "stream",
     "text": [
      "No sentence-transformers model found with name bert-base-uncased. Creating a new one with mean pooling.\n",
      "Epoch 1:  61%|██████    | 1233/2029 [08:45<06:38,  2.00it/s]"
     ]
    }
   ],
   "source": [
    "from torch.nn import TripletMarginLoss , TripletMarginWithDistanceLoss\n",
    "import torch.optim as optim\n",
    "from tqdm import tqdm \n",
    "import torch.nn.functional as F\n",
    "\n",
    "train_dataset = reddit_dataset2(df)\n",
    "train_loader = DataLoader(train_dataset, batch_size=1, shuffle=True)\n",
    "\n",
    "model = TripletEncoder().to('cuda')\n",
    "# criterion = TripletMarginLoss(margin=1.0, p=2)\n",
    "criterion = TripletMarginWithDistanceLoss(\n",
    "    distance_function=lambda x, y: 1 - F.cosine_similarity(x, y),\n",
    "    margin=0.3   # smaller margin usually works better for cosine\n",
    ")\n",
    "optimizer = optim.Adam(model.parameters(), lr=2e-5)\n",
    "\n",
    "for epoch in range(10):\n",
    "    model.train()\n",
    "    total_loss = 0\n",
    "    for anchors, positives, negatives in tqdm(train_loader, desc=f\"Epoch {epoch+1}\"):\n",
    "        optimizer.zero_grad()\n",
    "\n",
    "        # encode anchors\n",
    "        anchor_emb = model(list(anchors))  # (B, D)\n",
    "        \n",
    "        # flatten positives/negatives\n",
    "        flat_pos = [p for plist in positives for p in plist]\n",
    "        flat_neg = [n for nlist in negatives for n in nlist]\n",
    "        \n",
    "        pos_emb = model(flat_pos)  # (B*2, D)\n",
    "        neg_emb = model(flat_neg)  # (B*2, D)\n",
    "        # reshape back into (B, num_pos, D)\n",
    "        \n",
    "        pos_emb = pos_emb.view(len(anchors), -1, pos_emb.size(-1))\n",
    "        neg_emb = neg_emb.view(len(anchors), -1, neg_emb.size(-1))\n",
    "        # expand anchors to match (B, num_pos, num_neg, D)\n",
    "        a = anchor_emb.unsqueeze(1).unsqueeze(2)        # (B, 1, 1, D)\n",
    "        p = pos_emb.unsqueeze(2)                        # (B, num_pos, 1, D)\n",
    "        n = neg_emb.unsqueeze(1)                        # (B, 1, num_neg, D)\n",
    "        \n",
    "        # broadcast: (B, num_pos, num_neg, D)\n",
    "        a = a.expand(-1, p.size(1), n.size(2), -1)\n",
    "        p = p.expand(-1, p.size(1), n.size(2), -1)\n",
    "        n = n.expand(-1, p.size(1), n.size(2), -1)\n",
    "        \n",
    "        # collapse triplets into batch dimension\n",
    "        a = a.reshape(-1, a.size(-1))\n",
    "        p = p.reshape(-1, p.size(-1))\n",
    "        n = n.reshape(-1, n.size(-1))\n",
    "        \n",
    "        # compute triplet loss in one go\n",
    "        loss = criterion(a, p, n)\n",
    "        loss.backward()\n",
    "        optimizer.step()\n",
    "        total_loss += loss.item()\n",
    "\n",
    "    print(f\"Epoch {epoch+1}, Loss: {total_loss/len(train_loader):.4f}\")"
   ]
  },
  {
   "cell_type": "code",
   "execution_count": 21,
   "id": "307acc40",
   "metadata": {},
   "outputs": [],
   "source": [
    "torch.save(model.state_dict(), \"triplet_encoder_weights2.pth\")"
   ]
  },
  {
   "cell_type": "code",
   "execution_count": 36,
   "id": "fc4bf1f6",
   "metadata": {},
   "outputs": [
    {
     "name": "stderr",
     "output_type": "stream",
     "text": [
      "No sentence-transformers model found with name bert-base-uncased. Creating a new one with mean pooling.\n"
     ]
    },
    {
     "name": "stdout",
     "output_type": "stream",
     "text": [
      "All pairs:\n",
      "positive_1 → POSITIVE, similarity=0.9896\n",
      "positive_2 → POSITIVE, similarity=0.9933\n",
      "negative_1 → NEGATIVE, similarity=0.9917\n",
      "negative_2 → NEGATIVE, similarity=0.9813\n"
     ]
    },
    {
     "name": "stderr",
     "output_type": "stream",
     "text": [
      "No sentence-transformers model found with name bert-base-uncased. Creating a new one with mean pooling.\n"
     ]
    },
    {
     "name": "stdout",
     "output_type": "stream",
     "text": [
      "All pairs:\n",
      "positive_1 → POSITIVE, similarity=0.9896\n",
      "positive_2 → POSITIVE, similarity=0.9933\n",
      "negative_1 → NEGATIVE, similarity=0.9917\n",
      "negative_2 → NEGATIVE, similarity=0.9813\n",
      "guess score = 0.0098\n",
      "\n",
      "Final prediction = POSITIVE (best: ('positive_2', 0.9932569265365601, 'POSITIVE'))\n",
      "\n",
      "Final prediction = POSITIVE (best: ('positive_2', 0.9932569265365601, 'POSITIVE'))\n"
     ]
    }
   ],
   "source": [
    "import torch\n",
    "from torch.nn.functional import cosine_similarity\n",
    "\n",
    "device = torch.device(\"cuda\" if torch.cuda.is_available() else \"cpu\")\n",
    "\n",
    "# Load trained triplet model\n",
    "model = TripletEncoder().to(device)\n",
    "model.load_state_dict(torch.load(\"triplet_encoder_weights2.pth\", map_location=device))\n",
    "model.eval()\n",
    "\n",
    "def get_embedding(text, model):\n",
    "    with torch.no_grad():\n",
    "        emb = model.encoder.encode([text], convert_to_tensor=True, normalize_embeddings=True)\n",
    "        emb = model.projection(emb)   # use same projection as training\n",
    "    return emb\n",
    "\n",
    "\n",
    "def predict(anchor_text, positives, negatives, model):\n",
    "    anchor_emb = get_embedding(anchor_text, model)\n",
    "\n",
    "    pairs = []\n",
    "    # positive pairs\n",
    "    for i, p in enumerate(positives, 1):\n",
    "        p_emb = get_embedding(p, model)\n",
    "        sim = cosine_similarity(anchor_emb, p_emb).item()\n",
    "        pairs.append((f\"positive_{i}\", sim, \"POSITIVE\"))\n",
    "\n",
    "    # negative pairs\n",
    "    for i, n in enumerate(negatives, 1):\n",
    "        n_emb = get_embedding(n, model)\n",
    "        sim = cosine_similarity(anchor_emb, n_emb).item()\n",
    "        pairs.append((f\"negative_{i}\", sim, \"NEGATIVE\"))\n",
    "\n",
    "    # choose max similarity\n",
    "    best = max(pairs, key=lambda x: x[1])\n",
    "\n",
    "    return {\n",
    "        \"all_pairs\": pairs,   # list of (name, score, label)\n",
    "        \"prediction\": best[2],\n",
    "        \"best_pair\": best\n",
    "    }\n",
    "\n",
    "\n",
    "# -------- Example --------\n",
    "anchor = \"relationships [SEP] No legal advice: Do not offer or request legal advice. [SEP] Wow this is FUCKED. Sue her for half of all the bills you've paid for, and get the fuck out. This lady is a selfish bitch. I almost feel like she wants to end the relationship and is trying to force you to end it because she's an avoidant asshole. I can't think of any other reason to be this audacious.\"\n",
    " \n",
    "positives = [\"relationships [SEP] No legal advice: Do not offer or request legal advice. [SEP] I would keep it to yourself. If it comes up, pretend its new. Admitting to a fraudulent enlistment (Article 83) would be grounds for a less than honorable discharge. Depending on your CO, the punishment can vary. Try a military sub. I'm sure there will be someone on there that has been in the same situation.\", \"relationships [SEP] No legal advice: Do not offer or request legal advice. [SEP] > Police told me to pull over and PD would do their job. Their job will be to arrest me after I shoot this motherfucker when he gets out of his car, so they\\'d better find us fast! That reply might have gotten you something akin to the response time you were looking for.\"]\n",
    "negatives = [\"relationships [SEP] No legal advice: Do not offer or request legal advice. [SEP] this is the most infuriating thing I\\'ve read all year. my gut tells me to say fuck it all, tie this piece of shit up in the Kentucky wilderness, shoot him in each of the kneecaps with a .22 l, pour gasoline in him and throw a match. my head tells me to make sure his name is always associated as the rapist John and tell anyone he knows what he did, oh and leak his info to all the people online that you can, Facebook too.\", \"relationships [SEP] No legal advice: Do not offer or request legal advice. [SEP] Where is there a site that still works where you can jump the GPS. Is there a FAQ to do this with iPhone or Mac?'\"]\n",
    "\n",
    "out = predict(anchor, positives, negatives, model)\n",
    "\n",
    "print(\"All pairs:\")\n",
    "for name, score, label in out[\"all_pairs\"]:\n",
    "    print(f\"{name} → {label}, similarity={score:.4f}\")\n",
    "import torch\n",
    "from torch.nn.functional import cosine_similarity\n",
    "\n",
    "device = torch.device(\"cuda\" if torch.cuda.is_available() else \"cpu\")\n",
    "\n",
    "# Load trained triplet model\n",
    "model = TripletEncoder().to(device)\n",
    "model.load_state_dict(torch.load(\"triplet_encoder_weights2.pth\", map_location=device))\n",
    "model.eval()\n",
    "\n",
    "def get_embedding(text, model):\n",
    "    with torch.no_grad():\n",
    "        emb = model.encoder.encode([text], convert_to_tensor=True, normalize_embeddings=True)\n",
    "        emb = model.projection(emb)   # use same projection as training\n",
    "    return emb\n",
    "\n",
    "\n",
    "def predict(anchor_text, positives, negatives, model):\n",
    "    anchor_emb = get_embedding(anchor_text, model)\n",
    "\n",
    "    pairs = []\n",
    "    # positive pairs\n",
    "    for i, p in enumerate(positives, 1):\n",
    "        p_emb = get_embedding(p, model)\n",
    "        sim = cosine_similarity(anchor_emb, p_emb).item()\n",
    "        pairs.append((f\"positive_{i}\", sim, \"POSITIVE\"))\n",
    "\n",
    "    # negative pairs\n",
    "    for i, n in enumerate(negatives, 1):\n",
    "        n_emb = get_embedding(n, model)\n",
    "        sim = cosine_similarity(anchor_emb, n_emb).item()\n",
    "        pairs.append((f\"negative_{i}\", sim, \"NEGATIVE\"))\n",
    "\n",
    "    # choose max similarity\n",
    "    best = max(pairs, key=lambda x: x[1])\n",
    "\n",
    "    return {\n",
    "        \"all_pairs\": pairs,   # list of (name, score, label)\n",
    "        \"prediction\": best[2],\n",
    "        \"best_pair\": best\n",
    "    }\n",
    "\n",
    "\n",
    "# -------- Example --------\n",
    "anchor = \"relationships [SEP] No legal advice: Do not offer or request legal advice. [SEP] Wow this is FUCKED. Sue her for half of all the bills you've paid for, and get the fuck out. This lady is a selfish bitch. I almost feel like she wants to end the relationship and is trying to force you to end it because she's an avoidant asshole. I can't think of any other reason to be this audacious.\"\n",
    " \n",
    "positives = [\"relationships [SEP] No legal advice: Do not offer or request legal advice. [SEP] I would keep it to yourself. If it comes up, pretend its new. Admitting to a fraudulent enlistment (Article 83) would be grounds for a less than honorable discharge. Depending on your CO, the punishment can vary. Try a military sub. I'm sure there will be someone on there that has been in the same situation.\", \"relationships [SEP] No legal advice: Do not offer or request legal advice. [SEP] > Police told me to pull over and PD would do their job. Their job will be to arrest me after I shoot this motherfucker when he gets out of his car, so they\\'d better find us fast! That reply might have gotten you something akin to the response time you were looking for.\"]\n",
    "negatives = [\"relationships [SEP] No legal advice: Do not offer or request legal advice. [SEP] this is the most infuriating thing I\\'ve read all year. my gut tells me to say fuck it all, tie this piece of shit up in the Kentucky wilderness, shoot him in each of the kneecaps with a .22 l, pour gasoline in him and throw a match. my head tells me to make sure his name is always associated as the rapist John and tell anyone he knows what he did, oh and leak his info to all the people online that you can, Facebook too.\", \"relationships [SEP] No legal advice: Do not offer or request legal advice. [SEP] Where is there a site that still works where you can jump the GPS. Is there a FAQ to do this with iPhone or Mac?'\"]\n",
    "\n",
    "out = predict(anchor, positives, negatives, model)\n",
    "\n",
    "print(\"All pairs:\")\n",
    "for name, score, label in out[\"all_pairs\"]:\n",
    "    print(f\"{name} → {label}, similarity={score:.4f}\")\n",
    "guess_score = (\n",
    "    out[\"all_pairs\"][0][1] +\n",
    "    out[\"all_pairs\"][1][1] -\n",
    "    out[\"all_pairs\"][2][1] -\n",
    "    out[\"all_pairs\"][3][1]\n",
    ")\n",
    "print(f\"guess score = {guess_score:.4f}\")\n",
    "\n",
    "print(f\"\\nFinal prediction = {out['prediction']} (best: {out['best_pair']})\")\n",
    "print(f\"\\nFinal prediction = {out['prediction']} (best: {out['best_pair']})\")\n"
   ]
  },
  {
   "cell_type": "code",
   "execution_count": 50,
   "id": "832aef3c",
   "metadata": {},
   "outputs": [
    {
     "name": "stderr",
     "output_type": "stream",
     "text": [
      "No sentence-transformers model found with name bert-base-uncased. Creating a new one with mean pooling.\n",
      "100%|██████████| 203/203 [04:10<00:00,  1.24s/it]"
     ]
    },
    {
     "name": "stdout",
     "output_type": "stream",
     "text": [
      "   row_id prediction   best_pair  best_score  actual      diff  positive_1  \\\n",
      "0    1067   POSITIVE  positive_2    0.997570       1  0.043545    0.994076   \n",
      "1    1300   POSITIVE  positive_2    0.995403       1  0.013228    0.994625   \n",
      "2     991   NEGATIVE  negative_1    0.992189       0 -0.023843    0.977838   \n",
      "3    2027   POSITIVE  positive_1    0.994966       1  0.021704    0.994966   \n",
      "4     339   POSITIVE  positive_2    0.999541       1  0.046031    0.996249   \n",
      "\n",
      "   positive_2  negative_1  negative_2  \n",
      "0    0.997570    0.967992    0.980109  \n",
      "1    0.995403    0.987678    0.989121  \n",
      "2    0.974779    0.992189    0.984272  \n",
      "3    0.966139    0.963979    0.975421  \n",
      "4    0.999541    0.970277    0.979483  \n"
     ]
    },
    {
     "name": "stderr",
     "output_type": "stream",
     "text": [
      "\n"
     ]
    }
   ],
   "source": [
    "import torch\n",
    "import pandas as pd\n",
    "from torch.nn.functional import cosine_similarity\n",
    "from tqdm import tqdm\n",
    "device = torch.device(\"cuda\" if torch.cuda.is_available() else \"cpu\")\n",
    "\n",
    "# Load your trained model\n",
    "model = TripletEncoder().to(device)\n",
    "model.load_state_dict(torch.load(\"triplet_encoder_weights2.pth\", map_location=device))\n",
    "model.eval()\n",
    "\n",
    "\n",
    "def get_embedding(text, model):\n",
    "    with torch.no_grad():\n",
    "        emb = model.encoder.encode([text], convert_to_tensor=True, normalize_embeddings=True)\n",
    "        emb = model.projection(emb)\n",
    "    return emb\n",
    "\n",
    "\n",
    "def predict_row(row, model):\n",
    "    # Anchor is rule-aware\n",
    "    anchor = f\"{row['subreddit']} [SEP] {row['rule']} [SEP] {row['body']}\"\n",
    "    positives = [\n",
    "        f\"{row['subreddit']} [SEP] {row['rule']} [SEP] {row['positive_example_1']}\",\n",
    "        f\"{row['subreddit']} [SEP] {row['rule']} [SEP] {row['positive_example_2']}\"\n",
    "    ]\n",
    "    negatives = [\n",
    "        f\"{row['subreddit']} [SEP] {row['rule']} [SEP] {row['negative_example_1']}\",\n",
    "        f\"{row['subreddit']} [SEP] {row['rule']} [SEP] {row['negative_example_2']}\"\n",
    "    ]\n",
    "\n",
    "    anchor_emb = get_embedding(anchor, model)\n",
    "\n",
    "    pairs = []\n",
    "    for i, p in enumerate(positives, 1):\n",
    "        p_emb = get_embedding(p, model)\n",
    "        sim = cosine_similarity(anchor_emb, p_emb).item()\n",
    "        pairs.append((f\"positive_{i}\", sim, \"POSITIVE\"))\n",
    "\n",
    "    for i, n in enumerate(negatives, 1):\n",
    "        n_emb = get_embedding(n, model)\n",
    "        sim = cosine_similarity(anchor_emb, n_emb).item()\n",
    "        pairs.append((f\"negative_{i}\", sim, \"NEGATIVE\"))\n",
    "\n",
    "    best = max(pairs, key=lambda x: x[1])  # pick highest similarity\n",
    "    diff = sum(score for name, score, label in pairs if label == \"POSITIVE\") - \\\n",
    "           sum(score for name, score, label in pairs if label == \"NEGATIVE\")\n",
    "    return {\n",
    "        \"prediction\": best[2],\n",
    "        \"best_pair\": best[0],\n",
    "        \"best_score\": best[1],\n",
    "        \"all_scores\": {name: score for name, score, _ in pairs},\n",
    "        \"diff\": diff\n",
    "    }\n",
    "\n",
    "\n",
    "def run_inference(df, model, save_path=\"predictions.csv\"):\n",
    "    results = []\n",
    "    for _, row in tqdm(df.iterrows(), total=len(df)):\n",
    "        out = predict_row(row, model)\n",
    "        results.append({\n",
    "            \"row_id\": row[\"row_id\"],\n",
    "            \"prediction\": out[\"prediction\"],\n",
    "            \"best_pair\": out[\"best_pair\"],\n",
    "            \"best_score\": out[\"best_score\"],\n",
    "            \"actual\":row[\"rule_violation\"],\n",
    "            \"diff\": out[\"diff\"],\n",
    "            **out[\"all_scores\"]  # expand all similarity scores\n",
    "        })\n",
    "    results_df = pd.DataFrame(results)\n",
    "    results_df.to_csv(save_path, index=False)\n",
    "    return results_df\n",
    "\n",
    "\n",
    "# Example:\n",
    "test_df = pd.read_csv(\"train.csv\")\n",
    "test_df = clean_spaces(test_df)\n",
    "test_df = test_df.sample(frac=0.1).reset_index(drop=True)  # shuffle\n",
    "predictions = run_inference(test_df,model, save_path=\"test_predictions.csv\")\n",
    "print(predictions.head())\n"
   ]
  },
  {
   "cell_type": "code",
   "execution_count": 51,
   "id": "20be5517",
   "metadata": {},
   "outputs": [
    {
     "data": {
      "application/vnd.microsoft.datawrangler.viewer.v0+json": {
       "columns": [
        {
         "name": "index",
         "rawType": "int64",
         "type": "integer"
        },
        {
         "name": "row_id",
         "rawType": "int64",
         "type": "integer"
        },
        {
         "name": "prediction",
         "rawType": "object",
         "type": "string"
        },
        {
         "name": "best_pair",
         "rawType": "object",
         "type": "string"
        },
        {
         "name": "best_score",
         "rawType": "float64",
         "type": "float"
        },
        {
         "name": "actual",
         "rawType": "int64",
         "type": "integer"
        },
        {
         "name": "diff",
         "rawType": "float64",
         "type": "float"
        },
        {
         "name": "positive_1",
         "rawType": "float64",
         "type": "float"
        },
        {
         "name": "positive_2",
         "rawType": "float64",
         "type": "float"
        },
        {
         "name": "negative_1",
         "rawType": "float64",
         "type": "float"
        },
        {
         "name": "negative_2",
         "rawType": "float64",
         "type": "float"
        }
       ],
       "ref": "d08d482c-2bc6-4f51-9b99-a3e0855b5390",
       "rows": [
        [
         "0",
         "1067",
         "POSITIVE",
         "positive_2",
         "0.9975700378417969",
         "1",
         "0.043544888496398926",
         "0.9940758943557739",
         "0.9975700378417969",
         "0.96799236536026",
         "0.9801086783409119"
        ],
        [
         "1",
         "1300",
         "POSITIVE",
         "positive_2",
         "0.9954026937484741",
         "1",
         "0.013228058815002441",
         "0.9946247339248657",
         "0.9954026937484741",
         "0.9876782298088074",
         "0.98912113904953"
        ],
        [
         "2",
         "991",
         "NEGATIVE",
         "negative_1",
         "0.9921888709068298",
         "0",
         "-0.023843109607696533",
         "0.9778382778167725",
         "0.9747792482376099",
         "0.9921888709068298",
         "0.984271764755249"
        ],
        [
         "3",
         "2027",
         "POSITIVE",
         "positive_1",
         "0.9949655532836914",
         "1",
         "0.02170395851135254",
         "0.9949655532836914",
         "0.9661387205123901",
         "0.9639790654182434",
         "0.9754212498664856"
        ],
        [
         "4",
         "339",
         "POSITIVE",
         "positive_2",
         "0.9995409250259399",
         "1",
         "0.04603087902069092",
         "0.9962491393089294",
         "0.9995409250259399",
         "0.9702766537666321",
         "0.9794825315475464"
        ],
        [
         "5",
         "13",
         "POSITIVE",
         "positive_1",
         "0.9962073564529419",
         "0",
         "0.08773726224899292",
         "0.9962073564529419",
         "0.9917381405830383",
         "0.9510706663131714",
         "0.9491375684738159"
        ],
        [
         "6",
         "1815",
         "NEGATIVE",
         "negative_2",
         "0.9999999403953552",
         "0",
         "0.01182568073272705",
         "0.9955610632896423",
         "0.9917252063751221",
         "0.9754606485366821",
         "0.9999999403953552"
        ],
        [
         "7",
         "195",
         "NEGATIVE",
         "negative_1",
         "0.993553102016449",
         "0",
         "-0.015459239482879639",
         "0.9853109121322632",
         "0.9842953681945801",
         "0.993553102016449",
         "0.9915124177932739"
        ],
        [
         "8",
         "102",
         "NEGATIVE",
         "negative_2",
         "0.9986527562141418",
         "0",
         "-0.017509639263153076",
         "0.9940897226333618",
         "0.9856836199760437",
         "0.9986302256584167",
         "0.9986527562141418"
        ],
        [
         "9",
         "1022",
         "POSITIVE",
         "positive_1",
         "0.9855591654777527",
         "1",
         "0.057162344455718994",
         "0.9855591654777527",
         "0.985371470451355",
         "0.968207597732544",
         "0.9455606937408447"
        ],
        [
         "10",
         "188",
         "NEGATIVE",
         "negative_2",
         "0.9960475564002991",
         "0",
         "-0.009588122367858887",
         "0.9882948994636536",
         "0.9918163418769836",
         "0.993651807308197",
         "0.9960475564002991"
        ],
        [
         "11",
         "2007",
         "POSITIVE",
         "positive_1",
         "1.0",
         "1",
         "0.008624553680419922",
         "1.0",
         "0.994610071182251",
         "0.9910625219345093",
         "0.9949229955673218"
        ],
        [
         "12",
         "1330",
         "NEGATIVE",
         "negative_1",
         "0.9976164102554321",
         "0",
         "-0.03139352798461914",
         "0.9846537113189697",
         "0.9709970951080322",
         "0.9976164102554321",
         "0.989427924156189"
        ],
        [
         "13",
         "588",
         "POSITIVE",
         "positive_1",
         "0.9967381954193115",
         "0",
         "0.0076964497566223145",
         "0.9967381954193115",
         "0.9963146448135376",
         "0.9947463870048523",
         "0.9906100034713745"
        ],
        [
         "14",
         "1444",
         "NEGATIVE",
         "negative_2",
         "0.9988470673561096",
         "0",
         "-0.008936703205108643",
         "0.9906138777732849",
         "0.9967042207717896",
         "0.9974077343940735",
         "0.9988470673561096"
        ],
        [
         "15",
         "384",
         "POSITIVE",
         "positive_1",
         "0.9965773820877075",
         "1",
         "0.010577678680419922",
         "0.9965773820877075",
         "0.9931527376174927",
         "0.9953775405883789",
         "0.9837749004364014"
        ],
        [
         "16",
         "1344",
         "POSITIVE",
         "positive_2",
         "0.9939401745796204",
         "1",
         "0.018560349941253662",
         "0.9938250184059143",
         "0.9939401745796204",
         "0.9875882267951965",
         "0.9816166162490845"
        ],
        [
         "17",
         "1627",
         "POSITIVE",
         "positive_2",
         "0.9956953525543213",
         "0",
         "0.05740326642990112",
         "0.9858353734016418",
         "0.9956953525543213",
         "0.9543648958206177",
         "0.9697625637054443"
        ],
        [
         "18",
         "1517",
         "POSITIVE",
         "positive_2",
         "0.997062087059021",
         "1",
         "0.037159502506256104",
         "0.9900689125061035",
         "0.997062087059021",
         "0.9723618030548096",
         "0.9776096940040588"
        ],
        [
         "19",
         "828",
         "POSITIVE",
         "positive_1",
         "0.9992883205413818",
         "1",
         "0.02239936590194702",
         "0.9992883205413818",
         "0.997032105922699",
         "0.9795129895210266",
         "0.9944080710411072"
        ],
        [
         "20",
         "597",
         "NEGATIVE",
         "negative_1",
         "0.9977909326553345",
         "0",
         "-0.024393200874328613",
         "0.982391893863678",
         "0.9873530864715576",
         "0.9977909326553345",
         "0.9963472485542297"
        ],
        [
         "21",
         "605",
         "POSITIVE",
         "positive_2",
         "0.995377779006958",
         "1",
         "0.029427409172058105",
         "0.9951432943344116",
         "0.995377779006958",
         "0.9765486121177673",
         "0.9845450520515442"
        ],
        [
         "22",
         "1770",
         "POSITIVE",
         "positive_2",
         "0.9926321506500244",
         "0",
         "0.013710558414459229",
         "0.9923462271690369",
         "0.9926321506500244",
         "0.9838836193084717",
         "0.9873842000961304"
        ],
        [
         "23",
         "1240",
         "POSITIVE",
         "positive_1",
         "0.9952247142791748",
         "1",
         "0.03817439079284668",
         "0.9952247142791748",
         "0.9947423934936523",
         "0.9786257147789001",
         "0.9731670022010803"
        ],
        [
         "24",
         "1267",
         "POSITIVE",
         "positive_2",
         "0.9935458302497864",
         "1",
         "0.00818014144897461",
         "0.9895597696304321",
         "0.9935458302497864",
         "0.9911081790924072",
         "0.9838172793388367"
        ],
        [
         "25",
         "397",
         "POSITIVE",
         "positive_1",
         "0.9984840154647827",
         "1",
         "0.03021162748336792",
         "0.9984840154647827",
         "0.9966062307357788",
         "0.9799342751502991",
         "0.9849443435668945"
        ],
        [
         "26",
         "1236",
         "NEGATIVE",
         "negative_2",
         "0.9984476566314697",
         "0",
         "0.00012487173080444336",
         "0.9982596635818481",
         "0.9965878129005432",
         "0.9962749481201172",
         "0.9984476566314697"
        ],
        [
         "27",
         "24",
         "NEGATIVE",
         "negative_1",
         "0.996707558631897",
         "0",
         "-0.01753443479537964",
         "0.9890190362930298",
         "0.9859987497329712",
         "0.996707558631897",
         "0.9958446621894836"
        ],
        [
         "28",
         "288",
         "POSITIVE",
         "positive_1",
         "0.997217059135437",
         "1",
         "0.04419410228729248",
         "0.997217059135437",
         "0.9944624900817871",
         "0.9684633612632751",
         "0.9790220856666565"
        ],
        [
         "29",
         "1914",
         "NEGATIVE",
         "negative_2",
         "0.9934332370758057",
         "0",
         "-0.007206916809082031",
         "0.9899286031723022",
         "0.9895527362823486",
         "0.9932550191879272",
         "0.9934332370758057"
        ],
        [
         "30",
         "1433",
         "POSITIVE",
         "positive_2",
         "0.9988292455673218",
         "1",
         "0.004683196544647217",
         "0.9955534934997559",
         "0.9988292455673218",
         "0.9952512383460999",
         "0.9944483041763306"
        ],
        [
         "31",
         "1756",
         "NEGATIVE",
         "negative_2",
         "0.9960541725158691",
         "0",
         "-0.009392142295837402",
         "0.9903430938720703",
         "0.9922174215316772",
         "0.9958984851837158",
         "0.9960541725158691"
        ],
        [
         "32",
         "1719",
         "POSITIVE",
         "positive_1",
         "0.9953760504722595",
         "1",
         "0.03263568878173828",
         "0.9953760504722595",
         "0.991400420665741",
         "0.9711378812789917",
         "0.9830029010772705"
        ],
        [
         "33",
         "1761",
         "POSITIVE",
         "positive_2",
         "0.9960365891456604",
         "1",
         "0.009989380836486816",
         "0.9923955798149109",
         "0.9960365891456604",
         "0.9920094609260559",
         "0.9864333271980286"
        ],
        [
         "34",
         "259",
         "NEGATIVE",
         "negative_2",
         "0.9981021881103516",
         "0",
         "-0.01029956340789795",
         "0.9941802024841309",
         "0.9915556907653809",
         "0.9979332685470581",
         "0.9981021881103516"
        ],
        [
         "35",
         "359",
         "POSITIVE",
         "positive_1",
         "0.996596097946167",
         "1",
         "0.03499484062194824",
         "0.996596097946167",
         "0.994829535484314",
         "0.9776046276092529",
         "0.9788261651992798"
        ],
        [
         "36",
         "1100",
         "POSITIVE",
         "positive_2",
         "0.9907164573669434",
         "1",
         "0.02207052707672119",
         "0.9891232848167419",
         "0.9907164573669434",
         "0.9793282151222229",
         "0.9784409999847412"
        ],
        [
         "37",
         "966",
         "POSITIVE",
         "positive_2",
         "0.9971902370452881",
         "1",
         "0.008880019187927246",
         "0.9876570105552673",
         "0.9971902370452881",
         "0.985680103302002",
         "0.9902871251106262"
        ],
        [
         "38",
         "1796",
         "NEGATIVE",
         "negative_2",
         "0.9977228045463562",
         "0",
         "-0.0018355846405029297",
         "0.995957612991333",
         "0.9931272268295288",
         "0.9931976199150085",
         "0.9977228045463562"
        ],
        [
         "39",
         "798",
         "POSITIVE",
         "positive_2",
         "0.995803713798523",
         "1",
         "0.07341521978378296",
         "0.9914543628692627",
         "0.995803713798523",
         "0.9464427828788757",
         "0.967400074005127"
        ],
        [
         "40",
         "105",
         "NEGATIVE",
         "negative_2",
         "0.9973912239074707",
         "0",
         "-0.018601417541503906",
         "0.9798445701599121",
         "0.9948315620422363",
         "0.9958863258361816",
         "0.9973912239074707"
        ],
        [
         "41",
         "1043",
         "NEGATIVE",
         "negative_2",
         "0.9974380731582642",
         "0",
         "-0.01456218957901001",
         "0.9904894828796387",
         "0.9882558584213257",
         "0.9958694577217102",
         "0.9974380731582642"
        ],
        [
         "42",
         "1937",
         "NEGATIVE",
         "negative_2",
         "0.993890106678009",
         "0",
         "-0.021049320697784424",
         "0.9868363738059998",
         "0.9785420894622803",
         "0.9925376772880554",
         "0.993890106678009"
        ],
        [
         "43",
         "1161",
         "POSITIVE",
         "positive_2",
         "0.9948311448097229",
         "1",
         "0.021062135696411133",
         "0.9945810437202454",
         "0.9948311448097229",
         "0.97965008020401",
         "0.9886999726295471"
        ],
        [
         "44",
         "1723",
         "POSITIVE",
         "positive_2",
         "0.9932587742805481",
         "1",
         "0.010464191436767578",
         "0.993026614189148",
         "0.9932587742805481",
         "0.9932389259338379",
         "0.9825822710990906"
        ],
        [
         "45",
         "420",
         "POSITIVE",
         "positive_2",
         "0.9955024123191833",
         "0",
         "0.0028151273727416992",
         "0.9937442541122437",
         "0.9955024123191833",
         "0.9954202771186829",
         "0.9910112619400024"
        ],
        [
         "46",
         "1558",
         "NEGATIVE",
         "negative_1",
         "0.9971394538879395",
         "0",
         "-0.03638094663619995",
         "0.9671164751052856",
         "0.9822270274162292",
         "0.9971394538879395",
         "0.9885849952697754"
        ],
        [
         "47",
         "1034",
         "POSITIVE",
         "positive_1",
         "0.9952585101127625",
         "0",
         "0.004701435565948486",
         "0.9952585101127625",
         "0.9884518980979919",
         "0.9845396280288696",
         "0.9944693446159363"
        ],
        [
         "48",
         "1163",
         "NEGATIVE",
         "negative_1",
         "0.9979719519615173",
         "0",
         "-0.008064210414886475",
         "0.9918940663337708",
         "0.9945176839828491",
         "0.9979719519615173",
         "0.996504008769989"
        ],
        [
         "49",
         "345",
         "POSITIVE",
         "positive_2",
         "0.9986708164215088",
         "1",
         "0.04909050464630127",
         "0.991635799407959",
         "0.9986708164215088",
         "0.99354088306427",
         "0.9476752281188965"
        ]
       ],
       "shape": {
        "columns": 10,
        "rows": 203
       }
      },
      "text/html": [
       "<div>\n",
       "<style scoped>\n",
       "    .dataframe tbody tr th:only-of-type {\n",
       "        vertical-align: middle;\n",
       "    }\n",
       "\n",
       "    .dataframe tbody tr th {\n",
       "        vertical-align: top;\n",
       "    }\n",
       "\n",
       "    .dataframe thead th {\n",
       "        text-align: right;\n",
       "    }\n",
       "</style>\n",
       "<table border=\"1\" class=\"dataframe\">\n",
       "  <thead>\n",
       "    <tr style=\"text-align: right;\">\n",
       "      <th></th>\n",
       "      <th>row_id</th>\n",
       "      <th>prediction</th>\n",
       "      <th>best_pair</th>\n",
       "      <th>best_score</th>\n",
       "      <th>actual</th>\n",
       "      <th>diff</th>\n",
       "      <th>positive_1</th>\n",
       "      <th>positive_2</th>\n",
       "      <th>negative_1</th>\n",
       "      <th>negative_2</th>\n",
       "    </tr>\n",
       "  </thead>\n",
       "  <tbody>\n",
       "    <tr>\n",
       "      <th>0</th>\n",
       "      <td>1067</td>\n",
       "      <td>POSITIVE</td>\n",
       "      <td>positive_2</td>\n",
       "      <td>0.997570</td>\n",
       "      <td>1</td>\n",
       "      <td>0.043545</td>\n",
       "      <td>0.994076</td>\n",
       "      <td>0.997570</td>\n",
       "      <td>0.967992</td>\n",
       "      <td>0.980109</td>\n",
       "    </tr>\n",
       "    <tr>\n",
       "      <th>1</th>\n",
       "      <td>1300</td>\n",
       "      <td>POSITIVE</td>\n",
       "      <td>positive_2</td>\n",
       "      <td>0.995403</td>\n",
       "      <td>1</td>\n",
       "      <td>0.013228</td>\n",
       "      <td>0.994625</td>\n",
       "      <td>0.995403</td>\n",
       "      <td>0.987678</td>\n",
       "      <td>0.989121</td>\n",
       "    </tr>\n",
       "    <tr>\n",
       "      <th>2</th>\n",
       "      <td>991</td>\n",
       "      <td>NEGATIVE</td>\n",
       "      <td>negative_1</td>\n",
       "      <td>0.992189</td>\n",
       "      <td>0</td>\n",
       "      <td>-0.023843</td>\n",
       "      <td>0.977838</td>\n",
       "      <td>0.974779</td>\n",
       "      <td>0.992189</td>\n",
       "      <td>0.984272</td>\n",
       "    </tr>\n",
       "    <tr>\n",
       "      <th>3</th>\n",
       "      <td>2027</td>\n",
       "      <td>POSITIVE</td>\n",
       "      <td>positive_1</td>\n",
       "      <td>0.994966</td>\n",
       "      <td>1</td>\n",
       "      <td>0.021704</td>\n",
       "      <td>0.994966</td>\n",
       "      <td>0.966139</td>\n",
       "      <td>0.963979</td>\n",
       "      <td>0.975421</td>\n",
       "    </tr>\n",
       "    <tr>\n",
       "      <th>4</th>\n",
       "      <td>339</td>\n",
       "      <td>POSITIVE</td>\n",
       "      <td>positive_2</td>\n",
       "      <td>0.999541</td>\n",
       "      <td>1</td>\n",
       "      <td>0.046031</td>\n",
       "      <td>0.996249</td>\n",
       "      <td>0.999541</td>\n",
       "      <td>0.970277</td>\n",
       "      <td>0.979483</td>\n",
       "    </tr>\n",
       "    <tr>\n",
       "      <th>...</th>\n",
       "      <td>...</td>\n",
       "      <td>...</td>\n",
       "      <td>...</td>\n",
       "      <td>...</td>\n",
       "      <td>...</td>\n",
       "      <td>...</td>\n",
       "      <td>...</td>\n",
       "      <td>...</td>\n",
       "      <td>...</td>\n",
       "      <td>...</td>\n",
       "    </tr>\n",
       "    <tr>\n",
       "      <th>198</th>\n",
       "      <td>2026</td>\n",
       "      <td>NEGATIVE</td>\n",
       "      <td>negative_2</td>\n",
       "      <td>0.997234</td>\n",
       "      <td>1</td>\n",
       "      <td>-0.009271</td>\n",
       "      <td>0.992639</td>\n",
       "      <td>0.991406</td>\n",
       "      <td>0.996082</td>\n",
       "      <td>0.997234</td>\n",
       "    </tr>\n",
       "    <tr>\n",
       "      <th>199</th>\n",
       "      <td>1005</td>\n",
       "      <td>POSITIVE</td>\n",
       "      <td>positive_2</td>\n",
       "      <td>0.997052</td>\n",
       "      <td>1</td>\n",
       "      <td>-0.002558</td>\n",
       "      <td>0.991180</td>\n",
       "      <td>0.997052</td>\n",
       "      <td>0.994541</td>\n",
       "      <td>0.996249</td>\n",
       "    </tr>\n",
       "    <tr>\n",
       "      <th>200</th>\n",
       "      <td>1402</td>\n",
       "      <td>NEGATIVE</td>\n",
       "      <td>negative_2</td>\n",
       "      <td>0.992910</td>\n",
       "      <td>0</td>\n",
       "      <td>-0.024139</td>\n",
       "      <td>0.966217</td>\n",
       "      <td>0.991537</td>\n",
       "      <td>0.988982</td>\n",
       "      <td>0.992910</td>\n",
       "    </tr>\n",
       "    <tr>\n",
       "      <th>201</th>\n",
       "      <td>1244</td>\n",
       "      <td>NEGATIVE</td>\n",
       "      <td>negative_1</td>\n",
       "      <td>0.997621</td>\n",
       "      <td>0</td>\n",
       "      <td>-0.005252</td>\n",
       "      <td>0.991551</td>\n",
       "      <td>0.993223</td>\n",
       "      <td>0.997621</td>\n",
       "      <td>0.992405</td>\n",
       "    </tr>\n",
       "    <tr>\n",
       "      <th>202</th>\n",
       "      <td>1504</td>\n",
       "      <td>POSITIVE</td>\n",
       "      <td>positive_2</td>\n",
       "      <td>0.996049</td>\n",
       "      <td>1</td>\n",
       "      <td>0.069114</td>\n",
       "      <td>0.995975</td>\n",
       "      <td>0.996049</td>\n",
       "      <td>0.972319</td>\n",
       "      <td>0.950592</td>\n",
       "    </tr>\n",
       "  </tbody>\n",
       "</table>\n",
       "<p>203 rows × 10 columns</p>\n",
       "</div>"
      ],
      "text/plain": [
       "     row_id prediction   best_pair  best_score  actual      diff  positive_1  \\\n",
       "0      1067   POSITIVE  positive_2    0.997570       1  0.043545    0.994076   \n",
       "1      1300   POSITIVE  positive_2    0.995403       1  0.013228    0.994625   \n",
       "2       991   NEGATIVE  negative_1    0.992189       0 -0.023843    0.977838   \n",
       "3      2027   POSITIVE  positive_1    0.994966       1  0.021704    0.994966   \n",
       "4       339   POSITIVE  positive_2    0.999541       1  0.046031    0.996249   \n",
       "..      ...        ...         ...         ...     ...       ...         ...   \n",
       "198    2026   NEGATIVE  negative_2    0.997234       1 -0.009271    0.992639   \n",
       "199    1005   POSITIVE  positive_2    0.997052       1 -0.002558    0.991180   \n",
       "200    1402   NEGATIVE  negative_2    0.992910       0 -0.024139    0.966217   \n",
       "201    1244   NEGATIVE  negative_1    0.997621       0 -0.005252    0.991551   \n",
       "202    1504   POSITIVE  positive_2    0.996049       1  0.069114    0.995975   \n",
       "\n",
       "     positive_2  negative_1  negative_2  \n",
       "0      0.997570    0.967992    0.980109  \n",
       "1      0.995403    0.987678    0.989121  \n",
       "2      0.974779    0.992189    0.984272  \n",
       "3      0.966139    0.963979    0.975421  \n",
       "4      0.999541    0.970277    0.979483  \n",
       "..          ...         ...         ...  \n",
       "198    0.991406    0.996082    0.997234  \n",
       "199    0.997052    0.994541    0.996249  \n",
       "200    0.991537    0.988982    0.992910  \n",
       "201    0.993223    0.997621    0.992405  \n",
       "202    0.996049    0.972319    0.950592  \n",
       "\n",
       "[203 rows x 10 columns]"
      ]
     },
     "execution_count": 51,
     "metadata": {},
     "output_type": "execute_result"
    }
   ],
   "source": [
    "predictions"
   ]
  },
  {
   "cell_type": "code",
   "execution_count": 57,
   "id": "c3f58729",
   "metadata": {},
   "outputs": [
    {
     "data": {
      "text/plain": [
       "0.8472906403940886"
      ]
     },
     "execution_count": 57,
     "metadata": {},
     "output_type": "execute_result"
    }
   ],
   "source": [
    "predictions[\"vote\"] = predictions['prediction'].apply(lambda x: 1 if x == \"POSITIVE\" else 0)\n",
    "len(predictions[predictions[\"actual\"] == predictions[\"vote\"]])/len(predictions)"
   ]
  },
  {
   "cell_type": "code",
   "execution_count": 58,
   "id": "6969b32d",
   "metadata": {},
   "outputs": [
    {
     "data": {
      "text/plain": [
       "0.8078817733990148"
      ]
     },
     "execution_count": 58,
     "metadata": {},
     "output_type": "execute_result"
    }
   ],
   "source": [
    "predictions[\"vote\"] = predictions['diff'].apply(lambda x: 1 if x > 0 else 0)\n",
    "len(predictions[predictions[\"actual\"] == predictions[\"vote\"]])/len(predictions)"
   ]
  },
  {
   "cell_type": "code",
   "execution_count": null,
   "id": "0bd4abf5",
   "metadata": {},
   "outputs": [],
   "source": []
  }
 ],
 "metadata": {
  "kernelspec": {
   "display_name": "pytorch",
   "language": "python",
   "name": "python3"
  },
  "language_info": {
   "codemirror_mode": {
    "name": "ipython",
    "version": 3
   },
   "file_extension": ".py",
   "mimetype": "text/x-python",
   "name": "python",
   "nbconvert_exporter": "python",
   "pygments_lexer": "ipython3",
   "version": "3.13.7"
  }
 },
 "nbformat": 4,
 "nbformat_minor": 5
}
